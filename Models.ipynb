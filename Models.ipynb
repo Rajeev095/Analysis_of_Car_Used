{
 "cells": [
  {
   "cell_type": "markdown",
   "metadata": {},
   "source": [
    "# Baseline Model-Linear Regression"
   ]
  },
  {
   "cell_type": "code",
   "execution_count": 1,
   "metadata": {},
   "outputs": [],
   "source": [
    "#importing libraries\n",
    "import pandas as pd\n",
    "import numpy as np\n",
    "import seaborn as sns\n",
    "import matplotlib.pyplot as plt\n",
    "%matplotlib inline\n",
    "\n",
    "pd.set_option('display.max_columns', None)\n",
    "pd.set_option('display.max_rows', None)"
   ]
  },
  {
   "cell_type": "code",
   "execution_count": 2,
   "metadata": {},
   "outputs": [],
   "source": [
    "#loading the data into dataframe using pandas\n",
    "df = pd.read_csv('craiglist_cleaned_data')"
   ]
  },
  {
   "cell_type": "code",
   "execution_count": 3,
   "metadata": {},
   "outputs": [
    {
     "data": {
      "text/plain": [
       "Unnamed: 0            0\n",
       "region                0\n",
       "price                 0\n",
       "year                  0\n",
       "manufacturer          0\n",
       "model                 0\n",
       "condition             0\n",
       "cylinders             0\n",
       "fuel                  0\n",
       "odometer              0\n",
       "title_status          0\n",
       "transmission          0\n",
       "drive                 0\n",
       "size                  0\n",
       "type                  0\n",
       "paint_color      129401\n",
       "state                 0\n",
       "lat                6890\n",
       "long               6890\n",
       "posting_date          0\n",
       "posting_year          0\n",
       "posting_month         0\n",
       "age                   0\n",
       "Region                0\n",
       "Division              0\n",
       "dtype: int64"
      ]
     },
     "execution_count": 3,
     "metadata": {},
     "output_type": "execute_result"
    }
   ],
   "source": [
    "#checking Null values\n",
    "df.isna().sum()"
   ]
  },
  {
   "cell_type": "code",
   "execution_count": 4,
   "metadata": {},
   "outputs": [
    {
     "data": {
      "text/html": [
       "<div>\n",
       "<style scoped>\n",
       "    .dataframe tbody tr th:only-of-type {\n",
       "        vertical-align: middle;\n",
       "    }\n",
       "\n",
       "    .dataframe tbody tr th {\n",
       "        vertical-align: top;\n",
       "    }\n",
       "\n",
       "    .dataframe thead th {\n",
       "        text-align: right;\n",
       "    }\n",
       "</style>\n",
       "<table border=\"1\" class=\"dataframe\">\n",
       "  <thead>\n",
       "    <tr style=\"text-align: right;\">\n",
       "      <th></th>\n",
       "      <th>Unnamed: 0</th>\n",
       "      <th>price</th>\n",
       "      <th>year</th>\n",
       "      <th>cylinders</th>\n",
       "      <th>odometer</th>\n",
       "      <th>lat</th>\n",
       "      <th>long</th>\n",
       "      <th>posting_year</th>\n",
       "      <th>posting_month</th>\n",
       "      <th>age</th>\n",
       "    </tr>\n",
       "  </thead>\n",
       "  <tbody>\n",
       "    <tr>\n",
       "      <th>count</th>\n",
       "      <td>431209.000000</td>\n",
       "      <td>4.312090e+05</td>\n",
       "      <td>431209.000000</td>\n",
       "      <td>431209.000000</td>\n",
       "      <td>4.312090e+05</td>\n",
       "      <td>424319.000000</td>\n",
       "      <td>424319.000000</td>\n",
       "      <td>431209.0</td>\n",
       "      <td>431209.000000</td>\n",
       "      <td>431209.000000</td>\n",
       "    </tr>\n",
       "    <tr>\n",
       "      <th>mean</th>\n",
       "      <td>215604.000000</td>\n",
       "      <td>2.528218e+04</td>\n",
       "      <td>2011.082554</td>\n",
       "      <td>3.737028</td>\n",
       "      <td>1.014030e+05</td>\n",
       "      <td>38.573630</td>\n",
       "      <td>-94.467829</td>\n",
       "      <td>2020.0</td>\n",
       "      <td>11.200497</td>\n",
       "      <td>8.917446</td>\n",
       "    </tr>\n",
       "    <tr>\n",
       "      <th>std</th>\n",
       "      <td>124479.460451</td>\n",
       "      <td>5.525037e+06</td>\n",
       "      <td>8.135120</td>\n",
       "      <td>3.121975</td>\n",
       "      <td>3.120471e+06</td>\n",
       "      <td>5.866900</td>\n",
       "      <td>17.970413</td>\n",
       "      <td>0.0</td>\n",
       "      <td>0.400384</td>\n",
       "      <td>8.135120</td>\n",
       "    </tr>\n",
       "    <tr>\n",
       "      <th>min</th>\n",
       "      <td>0.000000</td>\n",
       "      <td>0.000000e+00</td>\n",
       "      <td>1900.000000</td>\n",
       "      <td>0.000000</td>\n",
       "      <td>0.000000e+00</td>\n",
       "      <td>-82.607549</td>\n",
       "      <td>-164.091797</td>\n",
       "      <td>2020.0</td>\n",
       "      <td>10.000000</td>\n",
       "      <td>-1.000000</td>\n",
       "    </tr>\n",
       "    <tr>\n",
       "      <th>25%</th>\n",
       "      <td>107802.000000</td>\n",
       "      <td>4.995000e+03</td>\n",
       "      <td>2008.000000</td>\n",
       "      <td>0.000000</td>\n",
       "      <td>4.299600e+04</td>\n",
       "      <td>34.710800</td>\n",
       "      <td>-110.927661</td>\n",
       "      <td>2020.0</td>\n",
       "      <td>11.000000</td>\n",
       "      <td>4.000000</td>\n",
       "    </tr>\n",
       "    <tr>\n",
       "      <th>50%</th>\n",
       "      <td>215604.000000</td>\n",
       "      <td>1.099500e+04</td>\n",
       "      <td>2013.000000</td>\n",
       "      <td>4.000000</td>\n",
       "      <td>9.073400e+04</td>\n",
       "      <td>39.286850</td>\n",
       "      <td>-88.435410</td>\n",
       "      <td>2020.0</td>\n",
       "      <td>11.000000</td>\n",
       "      <td>7.000000</td>\n",
       "    </tr>\n",
       "    <tr>\n",
       "      <th>75%</th>\n",
       "      <td>323406.000000</td>\n",
       "      <td>2.140000e+04</td>\n",
       "      <td>2016.000000</td>\n",
       "      <td>6.000000</td>\n",
       "      <td>1.350000e+05</td>\n",
       "      <td>42.514300</td>\n",
       "      <td>-81.130653</td>\n",
       "      <td>2020.0</td>\n",
       "      <td>11.000000</td>\n",
       "      <td>12.000000</td>\n",
       "    </tr>\n",
       "    <tr>\n",
       "      <th>max</th>\n",
       "      <td>431208.000000</td>\n",
       "      <td>3.615215e+09</td>\n",
       "      <td>2021.000000</td>\n",
       "      <td>12.000000</td>\n",
       "      <td>2.043756e+09</td>\n",
       "      <td>82.049255</td>\n",
       "      <td>150.898969</td>\n",
       "      <td>2020.0</td>\n",
       "      <td>12.000000</td>\n",
       "      <td>120.000000</td>\n",
       "    </tr>\n",
       "  </tbody>\n",
       "</table>\n",
       "</div>"
      ],
      "text/plain": [
       "          Unnamed: 0         price           year      cylinders  \\\n",
       "count  431209.000000  4.312090e+05  431209.000000  431209.000000   \n",
       "mean   215604.000000  2.528218e+04    2011.082554       3.737028   \n",
       "std    124479.460451  5.525037e+06       8.135120       3.121975   \n",
       "min         0.000000  0.000000e+00    1900.000000       0.000000   \n",
       "25%    107802.000000  4.995000e+03    2008.000000       0.000000   \n",
       "50%    215604.000000  1.099500e+04    2013.000000       4.000000   \n",
       "75%    323406.000000  2.140000e+04    2016.000000       6.000000   \n",
       "max    431208.000000  3.615215e+09    2021.000000      12.000000   \n",
       "\n",
       "           odometer            lat           long  posting_year  \\\n",
       "count  4.312090e+05  424319.000000  424319.000000      431209.0   \n",
       "mean   1.014030e+05      38.573630     -94.467829        2020.0   \n",
       "std    3.120471e+06       5.866900      17.970413           0.0   \n",
       "min    0.000000e+00     -82.607549    -164.091797        2020.0   \n",
       "25%    4.299600e+04      34.710800    -110.927661        2020.0   \n",
       "50%    9.073400e+04      39.286850     -88.435410        2020.0   \n",
       "75%    1.350000e+05      42.514300     -81.130653        2020.0   \n",
       "max    2.043756e+09      82.049255     150.898969        2020.0   \n",
       "\n",
       "       posting_month            age  \n",
       "count  431209.000000  431209.000000  \n",
       "mean       11.200497       8.917446  \n",
       "std         0.400384       8.135120  \n",
       "min        10.000000      -1.000000  \n",
       "25%        11.000000       4.000000  \n",
       "50%        11.000000       7.000000  \n",
       "75%        11.000000      12.000000  \n",
       "max        12.000000     120.000000  "
      ]
     },
     "execution_count": 4,
     "metadata": {},
     "output_type": "execute_result"
    }
   ],
   "source": [
    "#checking summary of dataset\n",
    "df.describe()"
   ]
  },
  {
   "cell_type": "code",
   "execution_count": 5,
   "metadata": {},
   "outputs": [],
   "source": [
    "#creating dummies variables of the catergorial variables\n",
    "dummies=['manufacturer','size','cylinders','condition','Division','drive',\n",
    "         'fuel','title_status','transmission','type']\n",
    "df =  pd.get_dummies(df, columns = dummies, drop_first = True )"
   ]
  },
  {
   "cell_type": "code",
   "execution_count": 6,
   "metadata": {},
   "outputs": [
    {
     "name": "stdout",
     "output_type": "stream",
     "text": [
      "<class 'pandas.core.frame.DataFrame'>\n",
      "RangeIndex: 431209 entries, 0 to 431208\n",
      "Columns: 106 entries, Unnamed: 0 to type_wagon\n",
      "dtypes: float64(5), int64(4), object(6), uint8(91)\n",
      "memory usage: 86.8+ MB\n"
     ]
    }
   ],
   "source": [
    "#checking the columns and rows\n",
    "df.info()"
   ]
  },
  {
   "cell_type": "code",
   "execution_count": 7,
   "metadata": {},
   "outputs": [],
   "source": [
    "#dropping the unconclusive columns\n",
    "df=df.drop(columns=[\"posting_date\",\"Unnamed: 0\",\"age\",\"paint_color\",\n",
    "                   \"posting_month\",\"region\",\"model\",\"lat\",\"state\",\"Region\",\n",
    "                    \"posting_year\",\"long\"],axis=1)"
   ]
  },
  {
   "cell_type": "code",
   "execution_count": 8,
   "metadata": {},
   "outputs": [],
   "source": [
    "#function for the linear regression\n",
    "from sklearn.model_selection import train_test_split\n",
    "from sklearn.metrics import mean_squared_error\n",
    "import statsmodels\n",
    "from sklearn.metrics import r2_score\n",
    "from sklearn.linear_model import LinearRegression\n",
    "from sklearn.model_selection import cross_val_score\n",
    "import statsmodels.api as sm\n",
    "#Fuction for the linear regression\n",
    "def linear_regression(df):\n",
    "\n",
    "    data = df.copy()\n",
    "\n",
    "    y = data['price']\n",
    "    X = data.drop(['price'], axis = 1)\n",
    "    X_train, X_test, y_train, y_test = train_test_split(X, y, test_size = 0.2,\n",
    "                                                       random_state =42)\n",
    "\n",
    "    print(\"X_test length\",len(X_test))\n",
    "\n",
    "    linreg = LinearRegression()\n",
    "    linreg.fit(X_train, y_train)\n",
    "\n",
    "    y_hat_train = linreg.predict(X_train)\n",
    "    y_hat_test = linreg.predict(X_test)\n",
    "\n",
    "\n",
    "    mse_train = mean_squared_error(y_train, y_hat_train)\n",
    "    mse_test = mean_squared_error(y_test, y_hat_test)\n",
    "\n",
    "    print('Train MSE:', mse_train)\n",
    "    print('Test MSE:', mse_test)\n",
    "\n",
    "    print('RMSE Train:', np.sqrt(mse_train))\n",
    "    print('RMSE Test:', np.sqrt(mse_test))\n",
    "\n",
    "    print('R2 Score:', round(r2_score(y_test, y_hat_test),3))\n",
    "\n",
    "    residuals = (y_test - y_hat_test)\n",
    "\n",
    "    statsmodels.graphics.gofplots.qqplot(residuals, line = \"r\")\n",
    "    return (linreg)"
   ]
  },
  {
   "cell_type": "code",
   "execution_count": 9,
   "metadata": {},
   "outputs": [
    {
     "name": "stdout",
     "output_type": "stream",
     "text": [
      "<class 'pandas.core.frame.DataFrame'>\n",
      "RangeIndex: 431209 entries, 0 to 431208\n",
      "Data columns (total 94 columns):\n",
      " #   Column                       Non-Null Count   Dtype  \n",
      "---  ------                       --------------   -----  \n",
      " 0   price                        431209 non-null  int64  \n",
      " 1   year                         431209 non-null  float64\n",
      " 2   odometer                     431209 non-null  float64\n",
      " 3   manufacturer_alfaromeo       431209 non-null  uint8  \n",
      " 4   manufacturer_astonmartin     431209 non-null  uint8  \n",
      " 5   manufacturer_audi            431209 non-null  uint8  \n",
      " 6   manufacturer_bmw             431209 non-null  uint8  \n",
      " 7   manufacturer_buick           431209 non-null  uint8  \n",
      " 8   manufacturer_cadillac        431209 non-null  uint8  \n",
      " 9   manufacturer_chevrolet       431209 non-null  uint8  \n",
      " 10  manufacturer_chrysler        431209 non-null  uint8  \n",
      " 11  manufacturer_datsun          431209 non-null  uint8  \n",
      " 12  manufacturer_dodge           431209 non-null  uint8  \n",
      " 13  manufacturer_ferrari         431209 non-null  uint8  \n",
      " 14  manufacturer_fiat            431209 non-null  uint8  \n",
      " 15  manufacturer_ford            431209 non-null  uint8  \n",
      " 16  manufacturer_gmc             431209 non-null  uint8  \n",
      " 17  manufacturer_harley          431209 non-null  uint8  \n",
      " 18  manufacturer_honda           431209 non-null  uint8  \n",
      " 19  manufacturer_hyundai         431209 non-null  uint8  \n",
      " 20  manufacturer_infiniti        431209 non-null  uint8  \n",
      " 21  manufacturer_jaguar          431209 non-null  uint8  \n",
      " 22  manufacturer_jeep            431209 non-null  uint8  \n",
      " 23  manufacturer_kia             431209 non-null  uint8  \n",
      " 24  manufacturer_landrover       431209 non-null  uint8  \n",
      " 25  manufacturer_lexus           431209 non-null  uint8  \n",
      " 26  manufacturer_lincoln         431209 non-null  uint8  \n",
      " 27  manufacturer_mazda           431209 non-null  uint8  \n",
      " 28  manufacturer_mercedes        431209 non-null  uint8  \n",
      " 29  manufacturer_mercury         431209 non-null  uint8  \n",
      " 30  manufacturer_mini            431209 non-null  uint8  \n",
      " 31  manufacturer_mitsubishi      431209 non-null  uint8  \n",
      " 32  manufacturer_morgan          431209 non-null  uint8  \n",
      " 33  manufacturer_nissan          431209 non-null  uint8  \n",
      " 34  manufacturer_pontiac         431209 non-null  uint8  \n",
      " 35  manufacturer_porsche         431209 non-null  uint8  \n",
      " 36  manufacturer_ram             431209 non-null  uint8  \n",
      " 37  manufacturer_rover           431209 non-null  uint8  \n",
      " 38  manufacturer_saturn          431209 non-null  uint8  \n",
      " 39  manufacturer_subaru          431209 non-null  uint8  \n",
      " 40  manufacturer_tesla           431209 non-null  uint8  \n",
      " 41  manufacturer_toyota          431209 non-null  uint8  \n",
      " 42  manufacturer_volkswagen      431209 non-null  uint8  \n",
      " 43  manufacturer_volvo           431209 non-null  uint8  \n",
      " 44  size_full                    431209 non-null  uint8  \n",
      " 45  size_mid                     431209 non-null  uint8  \n",
      " 46  size_subcompact              431209 non-null  uint8  \n",
      " 47  size_unknown                 431209 non-null  uint8  \n",
      " 48  cylinders_3                  431209 non-null  uint8  \n",
      " 49  cylinders_4                  431209 non-null  uint8  \n",
      " 50  cylinders_5                  431209 non-null  uint8  \n",
      " 51  cylinders_6                  431209 non-null  uint8  \n",
      " 52  cylinders_8                  431209 non-null  uint8  \n",
      " 53  cylinders_10                 431209 non-null  uint8  \n",
      " 54  cylinders_12                 431209 non-null  uint8  \n",
      " 55  condition_fair               431209 non-null  uint8  \n",
      " 56  condition_good               431209 non-null  uint8  \n",
      " 57  condition_new                431209 non-null  uint8  \n",
      " 58  condition_salvage            431209 non-null  uint8  \n",
      " 59  condition_unknown            431209 non-null  uint8  \n",
      " 60  Division_East South Central  431209 non-null  uint8  \n",
      " 61  Division_Middle Atlantic     431209 non-null  uint8  \n",
      " 62  Division_Mountain            431209 non-null  uint8  \n",
      " 63  Division_New England         431209 non-null  uint8  \n",
      " 64  Division_Pacific             431209 non-null  uint8  \n",
      " 65  Division_South Atlantic      431209 non-null  uint8  \n",
      " 66  Division_West North Central  431209 non-null  uint8  \n",
      " 67  Division_West South Central  431209 non-null  uint8  \n",
      " 68  drive_fwd                    431209 non-null  uint8  \n",
      " 69  drive_rwd                    431209 non-null  uint8  \n",
      " 70  drive_unknown                431209 non-null  uint8  \n",
      " 71  fuel_electric                431209 non-null  uint8  \n",
      " 72  fuel_gas                     431209 non-null  uint8  \n",
      " 73  fuel_hybrid                  431209 non-null  uint8  \n",
      " 74  fuel_other                   431209 non-null  uint8  \n",
      " 75  title_status_lien            431209 non-null  uint8  \n",
      " 76  title_status_missing         431209 non-null  uint8  \n",
      " 77  title_status_partsonly       431209 non-null  uint8  \n",
      " 78  title_status_rebuilt         431209 non-null  uint8  \n",
      " 79  title_status_salvage         431209 non-null  uint8  \n",
      " 80  transmission_manual          431209 non-null  uint8  \n",
      " 81  transmission_other           431209 non-null  uint8  \n",
      " 82  type_bus                     431209 non-null  uint8  \n",
      " 83  type_convertible             431209 non-null  uint8  \n",
      " 84  type_coupe                   431209 non-null  uint8  \n",
      " 85  type_hatchback               431209 non-null  uint8  \n",
      " 86  type_minivan                 431209 non-null  uint8  \n",
      " 87  type_offroad                 431209 non-null  uint8  \n",
      " 88  type_other                   431209 non-null  uint8  \n",
      " 89  type_pickup                  431209 non-null  uint8  \n",
      " 90  type_sedan                   431209 non-null  uint8  \n",
      " 91  type_truck                   431209 non-null  uint8  \n",
      " 92  type_van                     431209 non-null  uint8  \n",
      " 93  type_wagon                   431209 non-null  uint8  \n",
      "dtypes: float64(2), int64(1), uint8(91)\n",
      "memory usage: 47.3 MB\n"
     ]
    }
   ],
   "source": [
    "df.info()"
   ]
  },
  {
   "cell_type": "code",
   "execution_count": 10,
   "metadata": {},
   "outputs": [
    {
     "name": "stdout",
     "output_type": "stream",
     "text": [
      "X_test length 86242\n",
      "Train MSE: 38088175785239.92\n",
      "Test MSE: 258061350257.1652\n",
      "RMSE Train: 6171561.859467984\n",
      "RMSE Test: 507997.39197870414\n",
      "R2 Score: -0.022\n"
     ]
    },
    {
     "data": {
      "image/png": "[encoded data removed]",
      "text/plain": [
       "<Figure size 432x288 with 1 Axes>"
      ]
     },
     "metadata": {
      "needs_background": "light"
     },
     "output_type": "display_data"
    }
   ],
   "source": [
    "linreg = linear_regression(df)"
   ]
  },
  {
   "cell_type": "markdown",
   "metadata": {},
   "source": [
    "# Model Dealing with outliers "
   ]
  },
  {
   "cell_type": "markdown",
   "metadata": {},
   "source": [
    "**outliers**"
   ]
  },
  {
   "cell_type": "code",
   "execution_count": 11,
   "metadata": {},
   "outputs": [
    {
     "data": {
      "text/html": [
       "<div>\n",
       "<style scoped>\n",
       "    .dataframe tbody tr th:only-of-type {\n",
       "        vertical-align: middle;\n",
       "    }\n",
       "\n",
       "    .dataframe tbody tr th {\n",
       "        vertical-align: top;\n",
       "    }\n",
       "\n",
       "    .dataframe thead th {\n",
       "        text-align: right;\n",
       "    }\n",
       "</style>\n",
       "<table border=\"1\" class=\"dataframe\">\n",
       "  <thead>\n",
       "    <tr style=\"text-align: right;\">\n",
       "      <th></th>\n",
       "      <th>price</th>\n",
       "      <th>year</th>\n",
       "      <th>odometer</th>\n",
       "      <th>manufacturer_alfaromeo</th>\n",
       "      <th>manufacturer_astonmartin</th>\n",
       "      <th>manufacturer_audi</th>\n",
       "      <th>manufacturer_bmw</th>\n",
       "      <th>manufacturer_buick</th>\n",
       "      <th>manufacturer_cadillac</th>\n",
       "      <th>manufacturer_chevrolet</th>\n",
       "      <th>manufacturer_chrysler</th>\n",
       "      <th>manufacturer_datsun</th>\n",
       "      <th>manufacturer_dodge</th>\n",
       "      <th>manufacturer_ferrari</th>\n",
       "      <th>manufacturer_fiat</th>\n",
       "      <th>manufacturer_ford</th>\n",
       "      <th>manufacturer_gmc</th>\n",
       "      <th>manufacturer_harley</th>\n",
       "      <th>manufacturer_honda</th>\n",
       "      <th>manufacturer_hyundai</th>\n",
       "      <th>manufacturer_infiniti</th>\n",
       "      <th>manufacturer_jaguar</th>\n",
       "      <th>manufacturer_jeep</th>\n",
       "      <th>manufacturer_kia</th>\n",
       "      <th>manufacturer_landrover</th>\n",
       "      <th>manufacturer_lexus</th>\n",
       "      <th>manufacturer_lincoln</th>\n",
       "      <th>manufacturer_mazda</th>\n",
       "      <th>manufacturer_mercedes</th>\n",
       "      <th>manufacturer_mercury</th>\n",
       "      <th>manufacturer_mini</th>\n",
       "      <th>manufacturer_mitsubishi</th>\n",
       "      <th>manufacturer_morgan</th>\n",
       "      <th>manufacturer_nissan</th>\n",
       "      <th>manufacturer_pontiac</th>\n",
       "      <th>manufacturer_porsche</th>\n",
       "      <th>manufacturer_ram</th>\n",
       "      <th>manufacturer_rover</th>\n",
       "      <th>manufacturer_saturn</th>\n",
       "      <th>manufacturer_subaru</th>\n",
       "      <th>manufacturer_tesla</th>\n",
       "      <th>manufacturer_toyota</th>\n",
       "      <th>manufacturer_volkswagen</th>\n",
       "      <th>manufacturer_volvo</th>\n",
       "      <th>size_full</th>\n",
       "      <th>size_mid</th>\n",
       "      <th>size_subcompact</th>\n",
       "      <th>size_unknown</th>\n",
       "      <th>cylinders_3</th>\n",
       "      <th>cylinders_4</th>\n",
       "      <th>cylinders_5</th>\n",
       "      <th>cylinders_6</th>\n",
       "      <th>cylinders_8</th>\n",
       "      <th>cylinders_10</th>\n",
       "      <th>cylinders_12</th>\n",
       "      <th>condition_fair</th>\n",
       "      <th>condition_good</th>\n",
       "      <th>condition_new</th>\n",
       "      <th>condition_salvage</th>\n",
       "      <th>condition_unknown</th>\n",
       "      <th>Division_East South Central</th>\n",
       "      <th>Division_Middle Atlantic</th>\n",
       "      <th>Division_Mountain</th>\n",
       "      <th>Division_New England</th>\n",
       "      <th>Division_Pacific</th>\n",
       "      <th>Division_South Atlantic</th>\n",
       "      <th>Division_West North Central</th>\n",
       "      <th>Division_West South Central</th>\n",
       "      <th>drive_fwd</th>\n",
       "      <th>drive_rwd</th>\n",
       "      <th>drive_unknown</th>\n",
       "      <th>fuel_electric</th>\n",
       "      <th>fuel_gas</th>\n",
       "      <th>fuel_hybrid</th>\n",
       "      <th>fuel_other</th>\n",
       "      <th>title_status_lien</th>\n",
       "      <th>title_status_missing</th>\n",
       "      <th>title_status_partsonly</th>\n",
       "      <th>title_status_rebuilt</th>\n",
       "      <th>title_status_salvage</th>\n",
       "      <th>transmission_manual</th>\n",
       "      <th>transmission_other</th>\n",
       "      <th>type_bus</th>\n",
       "      <th>type_convertible</th>\n",
       "      <th>type_coupe</th>\n",
       "      <th>type_hatchback</th>\n",
       "      <th>type_minivan</th>\n",
       "      <th>type_offroad</th>\n",
       "      <th>type_other</th>\n",
       "      <th>type_pickup</th>\n",
       "      <th>type_sedan</th>\n",
       "      <th>type_truck</th>\n",
       "      <th>type_van</th>\n",
       "      <th>type_wagon</th>\n",
       "    </tr>\n",
       "  </thead>\n",
       "  <tbody>\n",
       "    <tr>\n",
       "      <th>count</th>\n",
       "      <td>4.312090e+05</td>\n",
       "      <td>431209.000000</td>\n",
       "      <td>4.312090e+05</td>\n",
       "      <td>431209.000000</td>\n",
       "      <td>431209.000000</td>\n",
       "      <td>431209.000000</td>\n",
       "      <td>431209.000000</td>\n",
       "      <td>431209.000000</td>\n",
       "      <td>431209.000000</td>\n",
       "      <td>431209.000000</td>\n",
       "      <td>431209.000000</td>\n",
       "      <td>431209.000000</td>\n",
       "      <td>431209.000000</td>\n",
       "      <td>431209.000000</td>\n",
       "      <td>431209.000000</td>\n",
       "      <td>431209.000000</td>\n",
       "      <td>431209.000000</td>\n",
       "      <td>431209.000000</td>\n",
       "      <td>431209.000000</td>\n",
       "      <td>431209.000000</td>\n",
       "      <td>431209.000000</td>\n",
       "      <td>431209.000000</td>\n",
       "      <td>431209.000000</td>\n",
       "      <td>431209.000000</td>\n",
       "      <td>431209.000000</td>\n",
       "      <td>431209.000000</td>\n",
       "      <td>431209.000000</td>\n",
       "      <td>431209.000000</td>\n",
       "      <td>431209.000000</td>\n",
       "      <td>431209.000000</td>\n",
       "      <td>431209.000000</td>\n",
       "      <td>431209.000000</td>\n",
       "      <td>431209.000000</td>\n",
       "      <td>431209.000000</td>\n",
       "      <td>431209.000000</td>\n",
       "      <td>431209.000000</td>\n",
       "      <td>431209.000000</td>\n",
       "      <td>431209.000000</td>\n",
       "      <td>431209.000000</td>\n",
       "      <td>431209.000000</td>\n",
       "      <td>431209.000000</td>\n",
       "      <td>431209.000000</td>\n",
       "      <td>431209.000000</td>\n",
       "      <td>431209.000000</td>\n",
       "      <td>431209.000000</td>\n",
       "      <td>431209.000000</td>\n",
       "      <td>431209.000000</td>\n",
       "      <td>431209.000000</td>\n",
       "      <td>431209.000000</td>\n",
       "      <td>431209.000000</td>\n",
       "      <td>431209.000000</td>\n",
       "      <td>431209.000000</td>\n",
       "      <td>431209.000000</td>\n",
       "      <td>431209.000000</td>\n",
       "      <td>431209.000000</td>\n",
       "      <td>431209.000000</td>\n",
       "      <td>431209.000000</td>\n",
       "      <td>431209.000000</td>\n",
       "      <td>431209.000000</td>\n",
       "      <td>431209.000000</td>\n",
       "      <td>431209.000000</td>\n",
       "      <td>431209.000000</td>\n",
       "      <td>431209.000000</td>\n",
       "      <td>431209.000000</td>\n",
       "      <td>431209.000000</td>\n",
       "      <td>431209.000000</td>\n",
       "      <td>431209.000000</td>\n",
       "      <td>431209.000000</td>\n",
       "      <td>431209.000000</td>\n",
       "      <td>431209.000000</td>\n",
       "      <td>431209.000000</td>\n",
       "      <td>431209.000000</td>\n",
       "      <td>431209.000000</td>\n",
       "      <td>431209.000000</td>\n",
       "      <td>431209.000000</td>\n",
       "      <td>431209.000000</td>\n",
       "      <td>431209.000000</td>\n",
       "      <td>431209.000000</td>\n",
       "      <td>431209.000000</td>\n",
       "      <td>431209.000000</td>\n",
       "      <td>431209.000000</td>\n",
       "      <td>431209.000000</td>\n",
       "      <td>431209.000000</td>\n",
       "      <td>431209.000000</td>\n",
       "      <td>431209.000000</td>\n",
       "      <td>431209.000000</td>\n",
       "      <td>431209.000000</td>\n",
       "      <td>431209.000000</td>\n",
       "      <td>431209.000000</td>\n",
       "      <td>431209.000000</td>\n",
       "      <td>431209.000000</td>\n",
       "      <td>431209.000000</td>\n",
       "      <td>431209.000000</td>\n",
       "      <td>431209.000000</td>\n",
       "    </tr>\n",
       "    <tr>\n",
       "      <th>mean</th>\n",
       "      <td>2.528218e+04</td>\n",
       "      <td>2011.082554</td>\n",
       "      <td>1.014030e+05</td>\n",
       "      <td>0.000434</td>\n",
       "      <td>0.000079</td>\n",
       "      <td>0.012848</td>\n",
       "      <td>0.028318</td>\n",
       "      <td>0.013738</td>\n",
       "      <td>0.015373</td>\n",
       "      <td>0.147325</td>\n",
       "      <td>0.017168</td>\n",
       "      <td>0.000128</td>\n",
       "      <td>0.038084</td>\n",
       "      <td>0.000218</td>\n",
       "      <td>0.002171</td>\n",
       "      <td>0.181826</td>\n",
       "      <td>0.039187</td>\n",
       "      <td>0.000318</td>\n",
       "      <td>0.058902</td>\n",
       "      <td>0.025095</td>\n",
       "      <td>0.008462</td>\n",
       "      <td>0.002382</td>\n",
       "      <td>0.048262</td>\n",
       "      <td>0.020139</td>\n",
       "      <td>0.000049</td>\n",
       "      <td>0.016210</td>\n",
       "      <td>0.007637</td>\n",
       "      <td>0.013560</td>\n",
       "      <td>0.024308</td>\n",
       "      <td>0.003759</td>\n",
       "      <td>0.005329</td>\n",
       "      <td>0.005146</td>\n",
       "      <td>0.000007</td>\n",
       "      <td>0.053818</td>\n",
       "      <td>0.006969</td>\n",
       "      <td>0.004091</td>\n",
       "      <td>0.038420</td>\n",
       "      <td>0.003166</td>\n",
       "      <td>0.003124</td>\n",
       "      <td>0.024019</td>\n",
       "      <td>0.002449</td>\n",
       "      <td>0.087920</td>\n",
       "      <td>0.024025</td>\n",
       "      <td>0.006428</td>\n",
       "      <td>0.152070</td>\n",
       "      <td>0.093498</td>\n",
       "      <td>0.007716</td>\n",
       "      <td>0.698557</td>\n",
       "      <td>0.000923</td>\n",
       "      <td>0.210216</td>\n",
       "      <td>0.004309</td>\n",
       "      <td>0.235069</td>\n",
       "      <td>0.178106</td>\n",
       "      <td>0.003386</td>\n",
       "      <td>0.000227</td>\n",
       "      <td>0.016143</td>\n",
       "      <td>0.255827</td>\n",
       "      <td>0.002755</td>\n",
       "      <td>0.001364</td>\n",
       "      <td>0.414008</td>\n",
       "      <td>0.051928</td>\n",
       "      <td>0.095455</td>\n",
       "      <td>0.104859</td>\n",
       "      <td>0.056729</td>\n",
       "      <td>0.196687</td>\n",
       "      <td>0.178980</td>\n",
       "      <td>0.077549</td>\n",
       "      <td>0.087011</td>\n",
       "      <td>0.273547</td>\n",
       "      <td>0.129805</td>\n",
       "      <td>0.283123</td>\n",
       "      <td>0.005120</td>\n",
       "      <td>0.886535</td>\n",
       "      <td>0.013163</td>\n",
       "      <td>0.035331</td>\n",
       "      <td>0.004585</td>\n",
       "      <td>0.001224</td>\n",
       "      <td>0.000329</td>\n",
       "      <td>0.019241</td>\n",
       "      <td>0.009177</td>\n",
       "      <td>0.054630</td>\n",
       "      <td>0.073959</td>\n",
       "      <td>0.000983</td>\n",
       "      <td>0.014429</td>\n",
       "      <td>0.041040</td>\n",
       "      <td>0.036470</td>\n",
       "      <td>0.014109</td>\n",
       "      <td>0.001317</td>\n",
       "      <td>0.287828</td>\n",
       "      <td>0.096167</td>\n",
       "      <td>0.207241</td>\n",
       "      <td>0.076450</td>\n",
       "      <td>0.021240</td>\n",
       "      <td>0.023580</td>\n",
       "    </tr>\n",
       "    <tr>\n",
       "      <th>std</th>\n",
       "      <td>5.525037e+06</td>\n",
       "      <td>8.135120</td>\n",
       "      <td>3.120471e+06</td>\n",
       "      <td>0.020820</td>\n",
       "      <td>0.008879</td>\n",
       "      <td>0.112617</td>\n",
       "      <td>0.165880</td>\n",
       "      <td>0.116402</td>\n",
       "      <td>0.123032</td>\n",
       "      <td>0.354430</td>\n",
       "      <td>0.129897</td>\n",
       "      <td>0.011293</td>\n",
       "      <td>0.191398</td>\n",
       "      <td>0.014763</td>\n",
       "      <td>0.046540</td>\n",
       "      <td>0.385701</td>\n",
       "      <td>0.194041</td>\n",
       "      <td>0.017822</td>\n",
       "      <td>0.235441</td>\n",
       "      <td>0.156413</td>\n",
       "      <td>0.091601</td>\n",
       "      <td>0.048744</td>\n",
       "      <td>0.214320</td>\n",
       "      <td>0.140475</td>\n",
       "      <td>0.006978</td>\n",
       "      <td>0.126283</td>\n",
       "      <td>0.087054</td>\n",
       "      <td>0.115653</td>\n",
       "      <td>0.154005</td>\n",
       "      <td>0.061197</td>\n",
       "      <td>0.072807</td>\n",
       "      <td>0.071551</td>\n",
       "      <td>0.002638</td>\n",
       "      <td>0.225659</td>\n",
       "      <td>0.083188</td>\n",
       "      <td>0.063829</td>\n",
       "      <td>0.192208</td>\n",
       "      <td>0.056174</td>\n",
       "      <td>0.055803</td>\n",
       "      <td>0.153107</td>\n",
       "      <td>0.049426</td>\n",
       "      <td>0.283179</td>\n",
       "      <td>0.153128</td>\n",
       "      <td>0.079920</td>\n",
       "      <td>0.359089</td>\n",
       "      <td>0.291129</td>\n",
       "      <td>0.087499</td>\n",
       "      <td>0.458885</td>\n",
       "      <td>0.030367</td>\n",
       "      <td>0.407462</td>\n",
       "      <td>0.065500</td>\n",
       "      <td>0.424043</td>\n",
       "      <td>0.382603</td>\n",
       "      <td>0.058089</td>\n",
       "      <td>0.015074</td>\n",
       "      <td>0.126025</td>\n",
       "      <td>0.436326</td>\n",
       "      <td>0.052416</td>\n",
       "      <td>0.036902</td>\n",
       "      <td>0.492550</td>\n",
       "      <td>0.221883</td>\n",
       "      <td>0.293843</td>\n",
       "      <td>0.306372</td>\n",
       "      <td>0.231324</td>\n",
       "      <td>0.397494</td>\n",
       "      <td>0.383336</td>\n",
       "      <td>0.267462</td>\n",
       "      <td>0.281852</td>\n",
       "      <td>0.445780</td>\n",
       "      <td>0.336089</td>\n",
       "      <td>0.450516</td>\n",
       "      <td>0.071374</td>\n",
       "      <td>0.317160</td>\n",
       "      <td>0.113973</td>\n",
       "      <td>0.184615</td>\n",
       "      <td>0.067556</td>\n",
       "      <td>0.034971</td>\n",
       "      <td>0.018144</td>\n",
       "      <td>0.137372</td>\n",
       "      <td>0.095354</td>\n",
       "      <td>0.227257</td>\n",
       "      <td>0.261705</td>\n",
       "      <td>0.031342</td>\n",
       "      <td>0.119252</td>\n",
       "      <td>0.198384</td>\n",
       "      <td>0.187456</td>\n",
       "      <td>0.117941</td>\n",
       "      <td>0.036270</td>\n",
       "      <td>0.452751</td>\n",
       "      <td>0.294820</td>\n",
       "      <td>0.405330</td>\n",
       "      <td>0.265717</td>\n",
       "      <td>0.144185</td>\n",
       "      <td>0.151737</td>\n",
       "    </tr>\n",
       "    <tr>\n",
       "      <th>min</th>\n",
       "      <td>0.000000e+00</td>\n",
       "      <td>1900.000000</td>\n",
       "      <td>0.000000e+00</td>\n",
       "      <td>0.000000</td>\n",
       "      <td>0.000000</td>\n",
       "      <td>0.000000</td>\n",
       "      <td>0.000000</td>\n",
       "      <td>0.000000</td>\n",
       "      <td>0.000000</td>\n",
       "      <td>0.000000</td>\n",
       "      <td>0.000000</td>\n",
       "      <td>0.000000</td>\n",
       "      <td>0.000000</td>\n",
       "      <td>0.000000</td>\n",
       "      <td>0.000000</td>\n",
       "      <td>0.000000</td>\n",
       "      <td>0.000000</td>\n",
       "      <td>0.000000</td>\n",
       "      <td>0.000000</td>\n",
       "      <td>0.000000</td>\n",
       "      <td>0.000000</td>\n",
       "      <td>0.000000</td>\n",
       "      <td>0.000000</td>\n",
       "      <td>0.000000</td>\n",
       "      <td>0.000000</td>\n",
       "      <td>0.000000</td>\n",
       "      <td>0.000000</td>\n",
       "      <td>0.000000</td>\n",
       "      <td>0.000000</td>\n",
       "      <td>0.000000</td>\n",
       "      <td>0.000000</td>\n",
       "      <td>0.000000</td>\n",
       "      <td>0.000000</td>\n",
       "      <td>0.000000</td>\n",
       "      <td>0.000000</td>\n",
       "      <td>0.000000</td>\n",
       "      <td>0.000000</td>\n",
       "      <td>0.000000</td>\n",
       "      <td>0.000000</td>\n",
       "      <td>0.000000</td>\n",
       "      <td>0.000000</td>\n",
       "      <td>0.000000</td>\n",
       "      <td>0.000000</td>\n",
       "      <td>0.000000</td>\n",
       "      <td>0.000000</td>\n",
       "      <td>0.000000</td>\n",
       "      <td>0.000000</td>\n",
       "      <td>0.000000</td>\n",
       "      <td>0.000000</td>\n",
       "      <td>0.000000</td>\n",
       "      <td>0.000000</td>\n",
       "      <td>0.000000</td>\n",
       "      <td>0.000000</td>\n",
       "      <td>0.000000</td>\n",
       "      <td>0.000000</td>\n",
       "      <td>0.000000</td>\n",
       "      <td>0.000000</td>\n",
       "      <td>0.000000</td>\n",
       "      <td>0.000000</td>\n",
       "      <td>0.000000</td>\n",
       "      <td>0.000000</td>\n",
       "      <td>0.000000</td>\n",
       "      <td>0.000000</td>\n",
       "      <td>0.000000</td>\n",
       "      <td>0.000000</td>\n",
       "      <td>0.000000</td>\n",
       "      <td>0.000000</td>\n",
       "      <td>0.000000</td>\n",
       "      <td>0.000000</td>\n",
       "      <td>0.000000</td>\n",
       "      <td>0.000000</td>\n",
       "      <td>0.000000</td>\n",
       "      <td>0.000000</td>\n",
       "      <td>0.000000</td>\n",
       "      <td>0.000000</td>\n",
       "      <td>0.000000</td>\n",
       "      <td>0.000000</td>\n",
       "      <td>0.000000</td>\n",
       "      <td>0.000000</td>\n",
       "      <td>0.000000</td>\n",
       "      <td>0.000000</td>\n",
       "      <td>0.000000</td>\n",
       "      <td>0.000000</td>\n",
       "      <td>0.000000</td>\n",
       "      <td>0.000000</td>\n",
       "      <td>0.000000</td>\n",
       "      <td>0.000000</td>\n",
       "      <td>0.000000</td>\n",
       "      <td>0.000000</td>\n",
       "      <td>0.000000</td>\n",
       "      <td>0.000000</td>\n",
       "      <td>0.000000</td>\n",
       "      <td>0.000000</td>\n",
       "      <td>0.000000</td>\n",
       "    </tr>\n",
       "    <tr>\n",
       "      <th>25%</th>\n",
       "      <td>4.995000e+03</td>\n",
       "      <td>2008.000000</td>\n",
       "      <td>4.299600e+04</td>\n",
       "      <td>0.000000</td>\n",
       "      <td>0.000000</td>\n",
       "      <td>0.000000</td>\n",
       "      <td>0.000000</td>\n",
       "      <td>0.000000</td>\n",
       "      <td>0.000000</td>\n",
       "      <td>0.000000</td>\n",
       "      <td>0.000000</td>\n",
       "      <td>0.000000</td>\n",
       "      <td>0.000000</td>\n",
       "      <td>0.000000</td>\n",
       "      <td>0.000000</td>\n",
       "      <td>0.000000</td>\n",
       "      <td>0.000000</td>\n",
       "      <td>0.000000</td>\n",
       "      <td>0.000000</td>\n",
       "      <td>0.000000</td>\n",
       "      <td>0.000000</td>\n",
       "      <td>0.000000</td>\n",
       "      <td>0.000000</td>\n",
       "      <td>0.000000</td>\n",
       "      <td>0.000000</td>\n",
       "      <td>0.000000</td>\n",
       "      <td>0.000000</td>\n",
       "      <td>0.000000</td>\n",
       "      <td>0.000000</td>\n",
       "      <td>0.000000</td>\n",
       "      <td>0.000000</td>\n",
       "      <td>0.000000</td>\n",
       "      <td>0.000000</td>\n",
       "      <td>0.000000</td>\n",
       "      <td>0.000000</td>\n",
       "      <td>0.000000</td>\n",
       "      <td>0.000000</td>\n",
       "      <td>0.000000</td>\n",
       "      <td>0.000000</td>\n",
       "      <td>0.000000</td>\n",
       "      <td>0.000000</td>\n",
       "      <td>0.000000</td>\n",
       "      <td>0.000000</td>\n",
       "      <td>0.000000</td>\n",
       "      <td>0.000000</td>\n",
       "      <td>0.000000</td>\n",
       "      <td>0.000000</td>\n",
       "      <td>0.000000</td>\n",
       "      <td>0.000000</td>\n",
       "      <td>0.000000</td>\n",
       "      <td>0.000000</td>\n",
       "      <td>0.000000</td>\n",
       "      <td>0.000000</td>\n",
       "      <td>0.000000</td>\n",
       "      <td>0.000000</td>\n",
       "      <td>0.000000</td>\n",
       "      <td>0.000000</td>\n",
       "      <td>0.000000</td>\n",
       "      <td>0.000000</td>\n",
       "      <td>0.000000</td>\n",
       "      <td>0.000000</td>\n",
       "      <td>0.000000</td>\n",
       "      <td>0.000000</td>\n",
       "      <td>0.000000</td>\n",
       "      <td>0.000000</td>\n",
       "      <td>0.000000</td>\n",
       "      <td>0.000000</td>\n",
       "      <td>0.000000</td>\n",
       "      <td>0.000000</td>\n",
       "      <td>0.000000</td>\n",
       "      <td>0.000000</td>\n",
       "      <td>0.000000</td>\n",
       "      <td>1.000000</td>\n",
       "      <td>0.000000</td>\n",
       "      <td>0.000000</td>\n",
       "      <td>0.000000</td>\n",
       "      <td>0.000000</td>\n",
       "      <td>0.000000</td>\n",
       "      <td>0.000000</td>\n",
       "      <td>0.000000</td>\n",
       "      <td>0.000000</td>\n",
       "      <td>0.000000</td>\n",
       "      <td>0.000000</td>\n",
       "      <td>0.000000</td>\n",
       "      <td>0.000000</td>\n",
       "      <td>0.000000</td>\n",
       "      <td>0.000000</td>\n",
       "      <td>0.000000</td>\n",
       "      <td>0.000000</td>\n",
       "      <td>0.000000</td>\n",
       "      <td>0.000000</td>\n",
       "      <td>0.000000</td>\n",
       "      <td>0.000000</td>\n",
       "      <td>0.000000</td>\n",
       "    </tr>\n",
       "    <tr>\n",
       "      <th>50%</th>\n",
       "      <td>1.099500e+04</td>\n",
       "      <td>2013.000000</td>\n",
       "      <td>9.073400e+04</td>\n",
       "      <td>0.000000</td>\n",
       "      <td>0.000000</td>\n",
       "      <td>0.000000</td>\n",
       "      <td>0.000000</td>\n",
       "      <td>0.000000</td>\n",
       "      <td>0.000000</td>\n",
       "      <td>0.000000</td>\n",
       "      <td>0.000000</td>\n",
       "      <td>0.000000</td>\n",
       "      <td>0.000000</td>\n",
       "      <td>0.000000</td>\n",
       "      <td>0.000000</td>\n",
       "      <td>0.000000</td>\n",
       "      <td>0.000000</td>\n",
       "      <td>0.000000</td>\n",
       "      <td>0.000000</td>\n",
       "      <td>0.000000</td>\n",
       "      <td>0.000000</td>\n",
       "      <td>0.000000</td>\n",
       "      <td>0.000000</td>\n",
       "      <td>0.000000</td>\n",
       "      <td>0.000000</td>\n",
       "      <td>0.000000</td>\n",
       "      <td>0.000000</td>\n",
       "      <td>0.000000</td>\n",
       "      <td>0.000000</td>\n",
       "      <td>0.000000</td>\n",
       "      <td>0.000000</td>\n",
       "      <td>0.000000</td>\n",
       "      <td>0.000000</td>\n",
       "      <td>0.000000</td>\n",
       "      <td>0.000000</td>\n",
       "      <td>0.000000</td>\n",
       "      <td>0.000000</td>\n",
       "      <td>0.000000</td>\n",
       "      <td>0.000000</td>\n",
       "      <td>0.000000</td>\n",
       "      <td>0.000000</td>\n",
       "      <td>0.000000</td>\n",
       "      <td>0.000000</td>\n",
       "      <td>0.000000</td>\n",
       "      <td>0.000000</td>\n",
       "      <td>0.000000</td>\n",
       "      <td>0.000000</td>\n",
       "      <td>1.000000</td>\n",
       "      <td>0.000000</td>\n",
       "      <td>0.000000</td>\n",
       "      <td>0.000000</td>\n",
       "      <td>0.000000</td>\n",
       "      <td>0.000000</td>\n",
       "      <td>0.000000</td>\n",
       "      <td>0.000000</td>\n",
       "      <td>0.000000</td>\n",
       "      <td>0.000000</td>\n",
       "      <td>0.000000</td>\n",
       "      <td>0.000000</td>\n",
       "      <td>0.000000</td>\n",
       "      <td>0.000000</td>\n",
       "      <td>0.000000</td>\n",
       "      <td>0.000000</td>\n",
       "      <td>0.000000</td>\n",
       "      <td>0.000000</td>\n",
       "      <td>0.000000</td>\n",
       "      <td>0.000000</td>\n",
       "      <td>0.000000</td>\n",
       "      <td>0.000000</td>\n",
       "      <td>0.000000</td>\n",
       "      <td>0.000000</td>\n",
       "      <td>0.000000</td>\n",
       "      <td>1.000000</td>\n",
       "      <td>0.000000</td>\n",
       "      <td>0.000000</td>\n",
       "      <td>0.000000</td>\n",
       "      <td>0.000000</td>\n",
       "      <td>0.000000</td>\n",
       "      <td>0.000000</td>\n",
       "      <td>0.000000</td>\n",
       "      <td>0.000000</td>\n",
       "      <td>0.000000</td>\n",
       "      <td>0.000000</td>\n",
       "      <td>0.000000</td>\n",
       "      <td>0.000000</td>\n",
       "      <td>0.000000</td>\n",
       "      <td>0.000000</td>\n",
       "      <td>0.000000</td>\n",
       "      <td>0.000000</td>\n",
       "      <td>0.000000</td>\n",
       "      <td>0.000000</td>\n",
       "      <td>0.000000</td>\n",
       "      <td>0.000000</td>\n",
       "      <td>0.000000</td>\n",
       "    </tr>\n",
       "    <tr>\n",
       "      <th>75%</th>\n",
       "      <td>2.140000e+04</td>\n",
       "      <td>2016.000000</td>\n",
       "      <td>1.350000e+05</td>\n",
       "      <td>0.000000</td>\n",
       "      <td>0.000000</td>\n",
       "      <td>0.000000</td>\n",
       "      <td>0.000000</td>\n",
       "      <td>0.000000</td>\n",
       "      <td>0.000000</td>\n",
       "      <td>0.000000</td>\n",
       "      <td>0.000000</td>\n",
       "      <td>0.000000</td>\n",
       "      <td>0.000000</td>\n",
       "      <td>0.000000</td>\n",
       "      <td>0.000000</td>\n",
       "      <td>0.000000</td>\n",
       "      <td>0.000000</td>\n",
       "      <td>0.000000</td>\n",
       "      <td>0.000000</td>\n",
       "      <td>0.000000</td>\n",
       "      <td>0.000000</td>\n",
       "      <td>0.000000</td>\n",
       "      <td>0.000000</td>\n",
       "      <td>0.000000</td>\n",
       "      <td>0.000000</td>\n",
       "      <td>0.000000</td>\n",
       "      <td>0.000000</td>\n",
       "      <td>0.000000</td>\n",
       "      <td>0.000000</td>\n",
       "      <td>0.000000</td>\n",
       "      <td>0.000000</td>\n",
       "      <td>0.000000</td>\n",
       "      <td>0.000000</td>\n",
       "      <td>0.000000</td>\n",
       "      <td>0.000000</td>\n",
       "      <td>0.000000</td>\n",
       "      <td>0.000000</td>\n",
       "      <td>0.000000</td>\n",
       "      <td>0.000000</td>\n",
       "      <td>0.000000</td>\n",
       "      <td>0.000000</td>\n",
       "      <td>0.000000</td>\n",
       "      <td>0.000000</td>\n",
       "      <td>0.000000</td>\n",
       "      <td>0.000000</td>\n",
       "      <td>0.000000</td>\n",
       "      <td>0.000000</td>\n",
       "      <td>1.000000</td>\n",
       "      <td>0.000000</td>\n",
       "      <td>0.000000</td>\n",
       "      <td>0.000000</td>\n",
       "      <td>0.000000</td>\n",
       "      <td>0.000000</td>\n",
       "      <td>0.000000</td>\n",
       "      <td>0.000000</td>\n",
       "      <td>0.000000</td>\n",
       "      <td>1.000000</td>\n",
       "      <td>0.000000</td>\n",
       "      <td>0.000000</td>\n",
       "      <td>1.000000</td>\n",
       "      <td>0.000000</td>\n",
       "      <td>0.000000</td>\n",
       "      <td>0.000000</td>\n",
       "      <td>0.000000</td>\n",
       "      <td>0.000000</td>\n",
       "      <td>0.000000</td>\n",
       "      <td>0.000000</td>\n",
       "      <td>0.000000</td>\n",
       "      <td>1.000000</td>\n",
       "      <td>0.000000</td>\n",
       "      <td>1.000000</td>\n",
       "      <td>0.000000</td>\n",
       "      <td>1.000000</td>\n",
       "      <td>0.000000</td>\n",
       "      <td>0.000000</td>\n",
       "      <td>0.000000</td>\n",
       "      <td>0.000000</td>\n",
       "      <td>0.000000</td>\n",
       "      <td>0.000000</td>\n",
       "      <td>0.000000</td>\n",
       "      <td>0.000000</td>\n",
       "      <td>0.000000</td>\n",
       "      <td>0.000000</td>\n",
       "      <td>0.000000</td>\n",
       "      <td>0.000000</td>\n",
       "      <td>0.000000</td>\n",
       "      <td>0.000000</td>\n",
       "      <td>0.000000</td>\n",
       "      <td>1.000000</td>\n",
       "      <td>0.000000</td>\n",
       "      <td>0.000000</td>\n",
       "      <td>0.000000</td>\n",
       "      <td>0.000000</td>\n",
       "      <td>0.000000</td>\n",
       "    </tr>\n",
       "    <tr>\n",
       "      <th>max</th>\n",
       "      <td>3.615215e+09</td>\n",
       "      <td>2021.000000</td>\n",
       "      <td>2.043756e+09</td>\n",
       "      <td>1.000000</td>\n",
       "      <td>1.000000</td>\n",
       "      <td>1.000000</td>\n",
       "      <td>1.000000</td>\n",
       "      <td>1.000000</td>\n",
       "      <td>1.000000</td>\n",
       "      <td>1.000000</td>\n",
       "      <td>1.000000</td>\n",
       "      <td>1.000000</td>\n",
       "      <td>1.000000</td>\n",
       "      <td>1.000000</td>\n",
       "      <td>1.000000</td>\n",
       "      <td>1.000000</td>\n",
       "      <td>1.000000</td>\n",
       "      <td>1.000000</td>\n",
       "      <td>1.000000</td>\n",
       "      <td>1.000000</td>\n",
       "      <td>1.000000</td>\n",
       "      <td>1.000000</td>\n",
       "      <td>1.000000</td>\n",
       "      <td>1.000000</td>\n",
       "      <td>1.000000</td>\n",
       "      <td>1.000000</td>\n",
       "      <td>1.000000</td>\n",
       "      <td>1.000000</td>\n",
       "      <td>1.000000</td>\n",
       "      <td>1.000000</td>\n",
       "      <td>1.000000</td>\n",
       "      <td>1.000000</td>\n",
       "      <td>1.000000</td>\n",
       "      <td>1.000000</td>\n",
       "      <td>1.000000</td>\n",
       "      <td>1.000000</td>\n",
       "      <td>1.000000</td>\n",
       "      <td>1.000000</td>\n",
       "      <td>1.000000</td>\n",
       "      <td>1.000000</td>\n",
       "      <td>1.000000</td>\n",
       "      <td>1.000000</td>\n",
       "      <td>1.000000</td>\n",
       "      <td>1.000000</td>\n",
       "      <td>1.000000</td>\n",
       "      <td>1.000000</td>\n",
       "      <td>1.000000</td>\n",
       "      <td>1.000000</td>\n",
       "      <td>1.000000</td>\n",
       "      <td>1.000000</td>\n",
       "      <td>1.000000</td>\n",
       "      <td>1.000000</td>\n",
       "      <td>1.000000</td>\n",
       "      <td>1.000000</td>\n",
       "      <td>1.000000</td>\n",
       "      <td>1.000000</td>\n",
       "      <td>1.000000</td>\n",
       "      <td>1.000000</td>\n",
       "      <td>1.000000</td>\n",
       "      <td>1.000000</td>\n",
       "      <td>1.000000</td>\n",
       "      <td>1.000000</td>\n",
       "      <td>1.000000</td>\n",
       "      <td>1.000000</td>\n",
       "      <td>1.000000</td>\n",
       "      <td>1.000000</td>\n",
       "      <td>1.000000</td>\n",
       "      <td>1.000000</td>\n",
       "      <td>1.000000</td>\n",
       "      <td>1.000000</td>\n",
       "      <td>1.000000</td>\n",
       "      <td>1.000000</td>\n",
       "      <td>1.000000</td>\n",
       "      <td>1.000000</td>\n",
       "      <td>1.000000</td>\n",
       "      <td>1.000000</td>\n",
       "      <td>1.000000</td>\n",
       "      <td>1.000000</td>\n",
       "      <td>1.000000</td>\n",
       "      <td>1.000000</td>\n",
       "      <td>1.000000</td>\n",
       "      <td>1.000000</td>\n",
       "      <td>1.000000</td>\n",
       "      <td>1.000000</td>\n",
       "      <td>1.000000</td>\n",
       "      <td>1.000000</td>\n",
       "      <td>1.000000</td>\n",
       "      <td>1.000000</td>\n",
       "      <td>1.000000</td>\n",
       "      <td>1.000000</td>\n",
       "      <td>1.000000</td>\n",
       "      <td>1.000000</td>\n",
       "      <td>1.000000</td>\n",
       "      <td>1.000000</td>\n",
       "    </tr>\n",
       "  </tbody>\n",
       "</table>\n",
       "</div>"
      ],
      "text/plain": [
       "              price           year      odometer  manufacturer_alfaromeo  \\\n",
       "count  4.312090e+05  431209.000000  4.312090e+05           431209.000000   \n",
       "mean   2.528218e+04    2011.082554  1.014030e+05                0.000434   \n",
       "std    5.525037e+06       8.135120  3.120471e+06                0.020820   \n",
       "min    0.000000e+00    1900.000000  0.000000e+00                0.000000   \n",
       "25%    4.995000e+03    2008.000000  4.299600e+04                0.000000   \n",
       "50%    1.099500e+04    2013.000000  9.073400e+04                0.000000   \n",
       "75%    2.140000e+04    2016.000000  1.350000e+05                0.000000   \n",
       "max    3.615215e+09    2021.000000  2.043756e+09                1.000000   \n",
       "\n",
       "       manufacturer_astonmartin  manufacturer_audi  manufacturer_bmw  \\\n",
       "count             431209.000000      431209.000000     431209.000000   \n",
       "mean                   0.000079           0.012848          0.028318   \n",
       "std                    0.008879           0.112617          0.165880   \n",
       "min                    0.000000           0.000000          0.000000   \n",
       "25%                    0.000000           0.000000          0.000000   \n",
       "50%                    0.000000           0.000000          0.000000   \n",
       "75%                    0.000000           0.000000          0.000000   \n",
       "max                    1.000000           1.000000          1.000000   \n",
       "\n",
       "       manufacturer_buick  manufacturer_cadillac  manufacturer_chevrolet  \\\n",
       "count       431209.000000          431209.000000           431209.000000   \n",
       "mean             0.013738               0.015373                0.147325   \n",
       "std              0.116402               0.123032                0.354430   \n",
       "min              0.000000               0.000000                0.000000   \n",
       "25%              0.000000               0.000000                0.000000   \n",
       "50%              0.000000               0.000000                0.000000   \n",
       "75%              0.000000               0.000000                0.000000   \n",
       "max              1.000000               1.000000                1.000000   \n",
       "\n",
       "       manufacturer_chrysler  manufacturer_datsun  manufacturer_dodge  \\\n",
       "count          431209.000000        431209.000000       431209.000000   \n",
       "mean                0.017168             0.000128            0.038084   \n",
       "std                 0.129897             0.011293            0.191398   \n",
       "min                 0.000000             0.000000            0.000000   \n",
       "25%                 0.000000             0.000000            0.000000   \n",
       "50%                 0.000000             0.000000            0.000000   \n",
       "75%                 0.000000             0.000000            0.000000   \n",
       "max                 1.000000             1.000000            1.000000   \n",
       "\n",
       "       manufacturer_ferrari  manufacturer_fiat  manufacturer_ford  \\\n",
       "count         431209.000000      431209.000000      431209.000000   \n",
       "mean               0.000218           0.002171           0.181826   \n",
       "std                0.014763           0.046540           0.385701   \n",
       "min                0.000000           0.000000           0.000000   \n",
       "25%                0.000000           0.000000           0.000000   \n",
       "50%                0.000000           0.000000           0.000000   \n",
       "75%                0.000000           0.000000           0.000000   \n",
       "max                1.000000           1.000000           1.000000   \n",
       "\n",
       "       manufacturer_gmc  manufacturer_harley  manufacturer_honda  \\\n",
       "count     431209.000000        431209.000000       431209.000000   \n",
       "mean           0.039187             0.000318            0.058902   \n",
       "std            0.194041             0.017822            0.235441   \n",
       "min            0.000000             0.000000            0.000000   \n",
       "25%            0.000000             0.000000            0.000000   \n",
       "50%            0.000000             0.000000            0.000000   \n",
       "75%            0.000000             0.000000            0.000000   \n",
       "max            1.000000             1.000000            1.000000   \n",
       "\n",
       "       manufacturer_hyundai  manufacturer_infiniti  manufacturer_jaguar  \\\n",
       "count         431209.000000          431209.000000        431209.000000   \n",
       "mean               0.025095               0.008462             0.002382   \n",
       "std                0.156413               0.091601             0.048744   \n",
       "min                0.000000               0.000000             0.000000   \n",
       "25%                0.000000               0.000000             0.000000   \n",
       "50%                0.000000               0.000000             0.000000   \n",
       "75%                0.000000               0.000000             0.000000   \n",
       "max                1.000000               1.000000             1.000000   \n",
       "\n",
       "       manufacturer_jeep  manufacturer_kia  manufacturer_landrover  \\\n",
       "count      431209.000000     431209.000000           431209.000000   \n",
       "mean            0.048262          0.020139                0.000049   \n",
       "std             0.214320          0.140475                0.006978   \n",
       "min             0.000000          0.000000                0.000000   \n",
       "25%             0.000000          0.000000                0.000000   \n",
       "50%             0.000000          0.000000                0.000000   \n",
       "75%             0.000000          0.000000                0.000000   \n",
       "max             1.000000          1.000000                1.000000   \n",
       "\n",
       "       manufacturer_lexus  manufacturer_lincoln  manufacturer_mazda  \\\n",
       "count       431209.000000         431209.000000       431209.000000   \n",
       "mean             0.016210              0.007637            0.013560   \n",
       "std              0.126283              0.087054            0.115653   \n",
       "min              0.000000              0.000000            0.000000   \n",
       "25%              0.000000              0.000000            0.000000   \n",
       "50%              0.000000              0.000000            0.000000   \n",
       "75%              0.000000              0.000000            0.000000   \n",
       "max              1.000000              1.000000            1.000000   \n",
       "\n",
       "       manufacturer_mercedes  manufacturer_mercury  manufacturer_mini  \\\n",
       "count          431209.000000         431209.000000      431209.000000   \n",
       "mean                0.024308              0.003759           0.005329   \n",
       "std                 0.154005              0.061197           0.072807   \n",
       "min                 0.000000              0.000000           0.000000   \n",
       "25%                 0.000000              0.000000           0.000000   \n",
       "50%                 0.000000              0.000000           0.000000   \n",
       "75%                 0.000000              0.000000           0.000000   \n",
       "max                 1.000000              1.000000           1.000000   \n",
       "\n",
       "       manufacturer_mitsubishi  manufacturer_morgan  manufacturer_nissan  \\\n",
       "count            431209.000000        431209.000000        431209.000000   \n",
       "mean                  0.005146             0.000007             0.053818   \n",
       "std                   0.071551             0.002638             0.225659   \n",
       "min                   0.000000             0.000000             0.000000   \n",
       "25%                   0.000000             0.000000             0.000000   \n",
       "50%                   0.000000             0.000000             0.000000   \n",
       "75%                   0.000000             0.000000             0.000000   \n",
       "max                   1.000000             1.000000             1.000000   \n",
       "\n",
       "       manufacturer_pontiac  manufacturer_porsche  manufacturer_ram  \\\n",
       "count         431209.000000         431209.000000     431209.000000   \n",
       "mean               0.006969              0.004091          0.038420   \n",
       "std                0.083188              0.063829          0.192208   \n",
       "min                0.000000              0.000000          0.000000   \n",
       "25%                0.000000              0.000000          0.000000   \n",
       "50%                0.000000              0.000000          0.000000   \n",
       "75%                0.000000              0.000000          0.000000   \n",
       "max                1.000000              1.000000          1.000000   \n",
       "\n",
       "       manufacturer_rover  manufacturer_saturn  manufacturer_subaru  \\\n",
       "count       431209.000000        431209.000000        431209.000000   \n",
       "mean             0.003166             0.003124             0.024019   \n",
       "std              0.056174             0.055803             0.153107   \n",
       "min              0.000000             0.000000             0.000000   \n",
       "25%              0.000000             0.000000             0.000000   \n",
       "50%              0.000000             0.000000             0.000000   \n",
       "75%              0.000000             0.000000             0.000000   \n",
       "max              1.000000             1.000000             1.000000   \n",
       "\n",
       "       manufacturer_tesla  manufacturer_toyota  manufacturer_volkswagen  \\\n",
       "count       431209.000000        431209.000000            431209.000000   \n",
       "mean             0.002449             0.087920                 0.024025   \n",
       "std              0.049426             0.283179                 0.153128   \n",
       "min              0.000000             0.000000                 0.000000   \n",
       "25%              0.000000             0.000000                 0.000000   \n",
       "50%              0.000000             0.000000                 0.000000   \n",
       "75%              0.000000             0.000000                 0.000000   \n",
       "max              1.000000             1.000000                 1.000000   \n",
       "\n",
       "       manufacturer_volvo      size_full       size_mid  size_subcompact  \\\n",
       "count       431209.000000  431209.000000  431209.000000    431209.000000   \n",
       "mean             0.006428       0.152070       0.093498         0.007716   \n",
       "std              0.079920       0.359089       0.291129         0.087499   \n",
       "min              0.000000       0.000000       0.000000         0.000000   \n",
       "25%              0.000000       0.000000       0.000000         0.000000   \n",
       "50%              0.000000       0.000000       0.000000         0.000000   \n",
       "75%              0.000000       0.000000       0.000000         0.000000   \n",
       "max              1.000000       1.000000       1.000000         1.000000   \n",
       "\n",
       "        size_unknown    cylinders_3    cylinders_4    cylinders_5  \\\n",
       "count  431209.000000  431209.000000  431209.000000  431209.000000   \n",
       "mean        0.698557       0.000923       0.210216       0.004309   \n",
       "std         0.458885       0.030367       0.407462       0.065500   \n",
       "min         0.000000       0.000000       0.000000       0.000000   \n",
       "25%         0.000000       0.000000       0.000000       0.000000   \n",
       "50%         1.000000       0.000000       0.000000       0.000000   \n",
       "75%         1.000000       0.000000       0.000000       0.000000   \n",
       "max         1.000000       1.000000       1.000000       1.000000   \n",
       "\n",
       "         cylinders_6    cylinders_8   cylinders_10   cylinders_12  \\\n",
       "count  431209.000000  431209.000000  431209.000000  431209.000000   \n",
       "mean        0.235069       0.178106       0.003386       0.000227   \n",
       "std         0.424043       0.382603       0.058089       0.015074   \n",
       "min         0.000000       0.000000       0.000000       0.000000   \n",
       "25%         0.000000       0.000000       0.000000       0.000000   \n",
       "50%         0.000000       0.000000       0.000000       0.000000   \n",
       "75%         0.000000       0.000000       0.000000       0.000000   \n",
       "max         1.000000       1.000000       1.000000       1.000000   \n",
       "\n",
       "       condition_fair  condition_good  condition_new  condition_salvage  \\\n",
       "count   431209.000000   431209.000000  431209.000000      431209.000000   \n",
       "mean         0.016143        0.255827       0.002755           0.001364   \n",
       "std          0.126025        0.436326       0.052416           0.036902   \n",
       "min          0.000000        0.000000       0.000000           0.000000   \n",
       "25%          0.000000        0.000000       0.000000           0.000000   \n",
       "50%          0.000000        0.000000       0.000000           0.000000   \n",
       "75%          0.000000        1.000000       0.000000           0.000000   \n",
       "max          1.000000        1.000000       1.000000           1.000000   \n",
       "\n",
       "       condition_unknown  Division_East South Central  \\\n",
       "count      431209.000000                431209.000000   \n",
       "mean            0.414008                     0.051928   \n",
       "std             0.492550                     0.221883   \n",
       "min             0.000000                     0.000000   \n",
       "25%             0.000000                     0.000000   \n",
       "50%             0.000000                     0.000000   \n",
       "75%             1.000000                     0.000000   \n",
       "max             1.000000                     1.000000   \n",
       "\n",
       "       Division_Middle Atlantic  Division_Mountain  Division_New England  \\\n",
       "count             431209.000000      431209.000000         431209.000000   \n",
       "mean                   0.095455           0.104859              0.056729   \n",
       "std                    0.293843           0.306372              0.231324   \n",
       "min                    0.000000           0.000000              0.000000   \n",
       "25%                    0.000000           0.000000              0.000000   \n",
       "50%                    0.000000           0.000000              0.000000   \n",
       "75%                    0.000000           0.000000              0.000000   \n",
       "max                    1.000000           1.000000              1.000000   \n",
       "\n",
       "       Division_Pacific  Division_South Atlantic  Division_West North Central  \\\n",
       "count     431209.000000            431209.000000                431209.000000   \n",
       "mean           0.196687                 0.178980                     0.077549   \n",
       "std            0.397494                 0.383336                     0.267462   \n",
       "min            0.000000                 0.000000                     0.000000   \n",
       "25%            0.000000                 0.000000                     0.000000   \n",
       "50%            0.000000                 0.000000                     0.000000   \n",
       "75%            0.000000                 0.000000                     0.000000   \n",
       "max            1.000000                 1.000000                     1.000000   \n",
       "\n",
       "       Division_West South Central      drive_fwd      drive_rwd  \\\n",
       "count                431209.000000  431209.000000  431209.000000   \n",
       "mean                      0.087011       0.273547       0.129805   \n",
       "std                       0.281852       0.445780       0.336089   \n",
       "min                       0.000000       0.000000       0.000000   \n",
       "25%                       0.000000       0.000000       0.000000   \n",
       "50%                       0.000000       0.000000       0.000000   \n",
       "75%                       0.000000       1.000000       0.000000   \n",
       "max                       1.000000       1.000000       1.000000   \n",
       "\n",
       "       drive_unknown  fuel_electric       fuel_gas    fuel_hybrid  \\\n",
       "count  431209.000000  431209.000000  431209.000000  431209.000000   \n",
       "mean        0.283123       0.005120       0.886535       0.013163   \n",
       "std         0.450516       0.071374       0.317160       0.113973   \n",
       "min         0.000000       0.000000       0.000000       0.000000   \n",
       "25%         0.000000       0.000000       1.000000       0.000000   \n",
       "50%         0.000000       0.000000       1.000000       0.000000   \n",
       "75%         1.000000       0.000000       1.000000       0.000000   \n",
       "max         1.000000       1.000000       1.000000       1.000000   \n",
       "\n",
       "          fuel_other  title_status_lien  title_status_missing  \\\n",
       "count  431209.000000      431209.000000         431209.000000   \n",
       "mean        0.035331           0.004585              0.001224   \n",
       "std         0.184615           0.067556              0.034971   \n",
       "min         0.000000           0.000000              0.000000   \n",
       "25%         0.000000           0.000000              0.000000   \n",
       "50%         0.000000           0.000000              0.000000   \n",
       "75%         0.000000           0.000000              0.000000   \n",
       "max         1.000000           1.000000              1.000000   \n",
       "\n",
       "       title_status_partsonly  title_status_rebuilt  title_status_salvage  \\\n",
       "count           431209.000000         431209.000000         431209.000000   \n",
       "mean                 0.000329              0.019241              0.009177   \n",
       "std                  0.018144              0.137372              0.095354   \n",
       "min                  0.000000              0.000000              0.000000   \n",
       "25%                  0.000000              0.000000              0.000000   \n",
       "50%                  0.000000              0.000000              0.000000   \n",
       "75%                  0.000000              0.000000              0.000000   \n",
       "max                  1.000000              1.000000              1.000000   \n",
       "\n",
       "       transmission_manual  transmission_other       type_bus  \\\n",
       "count        431209.000000       431209.000000  431209.000000   \n",
       "mean              0.054630            0.073959       0.000983   \n",
       "std               0.227257            0.261705       0.031342   \n",
       "min               0.000000            0.000000       0.000000   \n",
       "25%               0.000000            0.000000       0.000000   \n",
       "50%               0.000000            0.000000       0.000000   \n",
       "75%               0.000000            0.000000       0.000000   \n",
       "max               1.000000            1.000000       1.000000   \n",
       "\n",
       "       type_convertible     type_coupe  type_hatchback   type_minivan  \\\n",
       "count     431209.000000  431209.000000   431209.000000  431209.000000   \n",
       "mean           0.014429       0.041040        0.036470       0.014109   \n",
       "std            0.119252       0.198384        0.187456       0.117941   \n",
       "min            0.000000       0.000000        0.000000       0.000000   \n",
       "25%            0.000000       0.000000        0.000000       0.000000   \n",
       "50%            0.000000       0.000000        0.000000       0.000000   \n",
       "75%            0.000000       0.000000        0.000000       0.000000   \n",
       "max            1.000000       1.000000        1.000000       1.000000   \n",
       "\n",
       "        type_offroad     type_other    type_pickup     type_sedan  \\\n",
       "count  431209.000000  431209.000000  431209.000000  431209.000000   \n",
       "mean        0.001317       0.287828       0.096167       0.207241   \n",
       "std         0.036270       0.452751       0.294820       0.405330   \n",
       "min         0.000000       0.000000       0.000000       0.000000   \n",
       "25%         0.000000       0.000000       0.000000       0.000000   \n",
       "50%         0.000000       0.000000       0.000000       0.000000   \n",
       "75%         0.000000       1.000000       0.000000       0.000000   \n",
       "max         1.000000       1.000000       1.000000       1.000000   \n",
       "\n",
       "          type_truck       type_van     type_wagon  \n",
       "count  431209.000000  431209.000000  431209.000000  \n",
       "mean        0.076450       0.021240       0.023580  \n",
       "std         0.265717       0.144185       0.151737  \n",
       "min         0.000000       0.000000       0.000000  \n",
       "25%         0.000000       0.000000       0.000000  \n",
       "50%         0.000000       0.000000       0.000000  \n",
       "75%         0.000000       0.000000       0.000000  \n",
       "max         1.000000       1.000000       1.000000  "
      ]
     },
     "execution_count": 11,
     "metadata": {},
     "output_type": "execute_result"
    }
   ],
   "source": [
    "df.describe()"
   ]
  },
  {
   "cell_type": "markdown",
   "metadata": {},
   "source": [
    "Summary of the data shows that minimum price is 0 dollars and maximum price is 3.6 billion. Minimum miles of odometer is\n",
    "0 miles and<br> maximum is 2 billion miles. Checking for the outliers in these columns and eliminate the outliers to reduce the negative impact on prediction."
   ]
  },
  {
   "cell_type": "markdown",
   "metadata": {},
   "source": [
    "**<font size=\"4\">price</font>**"
   ]
  },
  {
   "cell_type": "code",
   "execution_count": 12,
   "metadata": {},
   "outputs": [
    {
     "name": "stderr",
     "output_type": "stream",
     "text": [
      "C:\\Users\\vijay\\anaconda3\\envs\\learn-env\\lib\\site-packages\\seaborn\\_decorators.py:36: FutureWarning: Pass the following variable as a keyword arg: x. From version 0.12, the only valid positional argument will be `data`, and passing other arguments without an explicit keyword will result in an error or misinterpretation.\n",
      "  warnings.warn(\n"
     ]
    },
    {
     "data": {
      "text/plain": [
       "(0.0, 200000.0)"
      ]
     },
     "execution_count": 12,
     "metadata": {},
     "output_type": "execute_result"
    },
    {
     "data": {
      "image/png": "[encoded data removed]",
      "text/plain": [
       "<Figure size 432x288 with 1 Axes>"
      ]
     },
     "metadata": {
      "needs_background": "light"
     },
     "output_type": "display_data"
    }
   ],
   "source": [
    "#plotting the boxplot of price to check the outliers\n",
    "sns.boxplot(df.price)\n",
    "plt.xlim(0,200000)"
   ]
  },
  {
   "cell_type": "code",
   "execution_count": 13,
   "metadata": {},
   "outputs": [
    {
     "data": {
      "text/plain": [
       "(383044, 94)"
      ]
     },
     "execution_count": 13,
     "metadata": {},
     "output_type": "execute_result"
    }
   ],
   "source": [
    "#eliminating outlier in the column 'price' and assigning to new dataframe\n",
    "df1 = df[(df.price > 500)&(df.price < 50000)]\n",
    "df1.shape"
   ]
  },
  {
   "cell_type": "markdown",
   "metadata": {},
   "source": [
    "**<font size =\"4\">odometer</font>**"
   ]
  },
  {
   "cell_type": "code",
   "execution_count": 14,
   "metadata": {},
   "outputs": [
    {
     "name": "stderr",
     "output_type": "stream",
     "text": [
      "C:\\Users\\vijay\\anaconda3\\envs\\learn-env\\lib\\site-packages\\seaborn\\_decorators.py:36: FutureWarning: Pass the following variable as a keyword arg: x. From version 0.12, the only valid positional argument will be `data`, and passing other arguments without an explicit keyword will result in an error or misinterpretation.\n",
      "  warnings.warn(\n"
     ]
    },
    {
     "data": {
      "text/plain": [
       "(0.0, 700000.0)"
      ]
     },
     "execution_count": 14,
     "metadata": {},
     "output_type": "execute_result"
    },
    {
     "data": {
      "image/png": "[encoded data removed]",
      "text/plain": [
       "<Figure size 432x288 with 1 Axes>"
      ]
     },
     "metadata": {
      "needs_background": "light"
     },
     "output_type": "display_data"
    }
   ],
   "source": [
    "#plotting the boxplot of the column 'odometer' to check the outliers\n",
    "sns.boxplot(df1.odometer)\n",
    "plt.xlim(0,700000)"
   ]
  },
  {
   "cell_type": "code",
   "execution_count": 15,
   "metadata": {},
   "outputs": [
    {
     "data": {
      "text/plain": [
       "(379128, 94)"
      ]
     },
     "execution_count": 15,
     "metadata": {},
     "output_type": "execute_result"
    }
   ],
   "source": [
    "#eliminating the outliers in the column 'odometer' \n",
    "df1 = df1[(df1.odometer > 20) & (df1.odometer < 300000)]\n",
    "df1.shape"
   ]
  },
  {
   "cell_type": "code",
   "execution_count": 16,
   "metadata": {},
   "outputs": [
    {
     "name": "stdout",
     "output_type": "stream",
     "text": [
      "<class 'pandas.core.frame.DataFrame'>\n",
      "Int64Index: 379128 entries, 0 to 431208\n",
      "Data columns (total 94 columns):\n",
      " #   Column                       Non-Null Count   Dtype  \n",
      "---  ------                       --------------   -----  \n",
      " 0   price                        379128 non-null  int64  \n",
      " 1   year                         379128 non-null  float64\n",
      " 2   odometer                     379128 non-null  float64\n",
      " 3   manufacturer_alfaromeo       379128 non-null  uint8  \n",
      " 4   manufacturer_astonmartin     379128 non-null  uint8  \n",
      " 5   manufacturer_audi            379128 non-null  uint8  \n",
      " 6   manufacturer_bmw             379128 non-null  uint8  \n",
      " 7   manufacturer_buick           379128 non-null  uint8  \n",
      " 8   manufacturer_cadillac        379128 non-null  uint8  \n",
      " 9   manufacturer_chevrolet       379128 non-null  uint8  \n",
      " 10  manufacturer_chrysler        379128 non-null  uint8  \n",
      " 11  manufacturer_datsun          379128 non-null  uint8  \n",
      " 12  manufacturer_dodge           379128 non-null  uint8  \n",
      " 13  manufacturer_ferrari         379128 non-null  uint8  \n",
      " 14  manufacturer_fiat            379128 non-null  uint8  \n",
      " 15  manufacturer_ford            379128 non-null  uint8  \n",
      " 16  manufacturer_gmc             379128 non-null  uint8  \n",
      " 17  manufacturer_harley          379128 non-null  uint8  \n",
      " 18  manufacturer_honda           379128 non-null  uint8  \n",
      " 19  manufacturer_hyundai         379128 non-null  uint8  \n",
      " 20  manufacturer_infiniti        379128 non-null  uint8  \n",
      " 21  manufacturer_jaguar          379128 non-null  uint8  \n",
      " 22  manufacturer_jeep            379128 non-null  uint8  \n",
      " 23  manufacturer_kia             379128 non-null  uint8  \n",
      " 24  manufacturer_landrover       379128 non-null  uint8  \n",
      " 25  manufacturer_lexus           379128 non-null  uint8  \n",
      " 26  manufacturer_lincoln         379128 non-null  uint8  \n",
      " 27  manufacturer_mazda           379128 non-null  uint8  \n",
      " 28  manufacturer_mercedes        379128 non-null  uint8  \n",
      " 29  manufacturer_mercury         379128 non-null  uint8  \n",
      " 30  manufacturer_mini            379128 non-null  uint8  \n",
      " 31  manufacturer_mitsubishi      379128 non-null  uint8  \n",
      " 32  manufacturer_morgan          379128 non-null  uint8  \n",
      " 33  manufacturer_nissan          379128 non-null  uint8  \n",
      " 34  manufacturer_pontiac         379128 non-null  uint8  \n",
      " 35  manufacturer_porsche         379128 non-null  uint8  \n",
      " 36  manufacturer_ram             379128 non-null  uint8  \n",
      " 37  manufacturer_rover           379128 non-null  uint8  \n",
      " 38  manufacturer_saturn          379128 non-null  uint8  \n",
      " 39  manufacturer_subaru          379128 non-null  uint8  \n",
      " 40  manufacturer_tesla           379128 non-null  uint8  \n",
      " 41  manufacturer_toyota          379128 non-null  uint8  \n",
      " 42  manufacturer_volkswagen      379128 non-null  uint8  \n",
      " 43  manufacturer_volvo           379128 non-null  uint8  \n",
      " 44  size_full                    379128 non-null  uint8  \n",
      " 45  size_mid                     379128 non-null  uint8  \n",
      " 46  size_subcompact              379128 non-null  uint8  \n",
      " 47  size_unknown                 379128 non-null  uint8  \n",
      " 48  cylinders_3                  379128 non-null  uint8  \n",
      " 49  cylinders_4                  379128 non-null  uint8  \n",
      " 50  cylinders_5                  379128 non-null  uint8  \n",
      " 51  cylinders_6                  379128 non-null  uint8  \n",
      " 52  cylinders_8                  379128 non-null  uint8  \n",
      " 53  cylinders_10                 379128 non-null  uint8  \n",
      " 54  cylinders_12                 379128 non-null  uint8  \n",
      " 55  condition_fair               379128 non-null  uint8  \n",
      " 56  condition_good               379128 non-null  uint8  \n",
      " 57  condition_new                379128 non-null  uint8  \n",
      " 58  condition_salvage            379128 non-null  uint8  \n",
      " 59  condition_unknown            379128 non-null  uint8  \n",
      " 60  Division_East South Central  379128 non-null  uint8  \n",
      " 61  Division_Middle Atlantic     379128 non-null  uint8  \n",
      " 62  Division_Mountain            379128 non-null  uint8  \n",
      " 63  Division_New England         379128 non-null  uint8  \n",
      " 64  Division_Pacific             379128 non-null  uint8  \n",
      " 65  Division_South Atlantic      379128 non-null  uint8  \n",
      " 66  Division_West North Central  379128 non-null  uint8  \n",
      " 67  Division_West South Central  379128 non-null  uint8  \n",
      " 68  drive_fwd                    379128 non-null  uint8  \n",
      " 69  drive_rwd                    379128 non-null  uint8  \n",
      " 70  drive_unknown                379128 non-null  uint8  \n",
      " 71  fuel_electric                379128 non-null  uint8  \n",
      " 72  fuel_gas                     379128 non-null  uint8  \n",
      " 73  fuel_hybrid                  379128 non-null  uint8  \n",
      " 74  fuel_other                   379128 non-null  uint8  \n",
      " 75  title_status_lien            379128 non-null  uint8  \n",
      " 76  title_status_missing         379128 non-null  uint8  \n",
      " 77  title_status_partsonly       379128 non-null  uint8  \n",
      " 78  title_status_rebuilt         379128 non-null  uint8  \n",
      " 79  title_status_salvage         379128 non-null  uint8  \n",
      " 80  transmission_manual          379128 non-null  uint8  \n",
      " 81  transmission_other           379128 non-null  uint8  \n",
      " 82  type_bus                     379128 non-null  uint8  \n",
      " 83  type_convertible             379128 non-null  uint8  \n",
      " 84  type_coupe                   379128 non-null  uint8  \n",
      " 85  type_hatchback               379128 non-null  uint8  \n",
      " 86  type_minivan                 379128 non-null  uint8  \n",
      " 87  type_offroad                 379128 non-null  uint8  \n",
      " 88  type_other                   379128 non-null  uint8  \n",
      " 89  type_pickup                  379128 non-null  uint8  \n",
      " 90  type_sedan                   379128 non-null  uint8  \n",
      " 91  type_truck                   379128 non-null  uint8  \n",
      " 92  type_van                     379128 non-null  uint8  \n",
      " 93  type_wagon                   379128 non-null  uint8  \n",
      "dtypes: float64(2), int64(1), uint8(91)\n",
      "memory usage: 44.5 MB\n"
     ]
    }
   ],
   "source": [
    "df1.info()"
   ]
  },
  {
   "cell_type": "code",
   "execution_count": 17,
   "metadata": {},
   "outputs": [
    {
     "name": "stdout",
     "output_type": "stream",
     "text": [
      "X_test length 75826\n",
      "Train MSE: 44076664.41411939\n",
      "Test MSE: 44218051.02866264\n",
      "RMSE Train: 6639.025863341654\n",
      "RMSE Test: 6649.665482463207\n",
      "R2 Score: 0.645\n"
     ]
    },
    {
     "data": {
      "image/png": "[encoded data removed]",
      "text/plain": [
       "<Figure size 432x288 with 1 Axes>"
      ]
     },
     "metadata": {
      "needs_background": "light"
     },
     "output_type": "display_data"
    }
   ],
   "source": [
    "linreg1 = linear_regression(df1)"
   ]
  },
  {
   "cell_type": "markdown",
   "metadata": {},
   "source": [
    "# Random Forest Model"
   ]
  },
  {
   "cell_type": "code",
   "execution_count": 18,
   "metadata": {},
   "outputs": [],
   "source": [
    "y = df1['price']\n",
    "X = df1.drop(['price'], axis = 1)"
   ]
  },
  {
   "cell_type": "code",
   "execution_count": 19,
   "metadata": {},
   "outputs": [],
   "source": [
    "X_train, X_test, y_train, y_test = train_test_split(X, y, test_size = 0.2,\n",
    "                                                       random_state =42)"
   ]
  },
  {
   "cell_type": "code",
   "execution_count": 20,
   "metadata": {},
   "outputs": [
    {
     "data": {
      "text/plain": [
       "RandomForestRegressor(max_depth=5, n_estimators=10, random_state=2)"
      ]
     },
     "execution_count": 20,
     "metadata": {},
     "output_type": "execute_result"
    }
   ],
   "source": [
    "from sklearn.ensemble import RandomForestRegressor\n",
    "# Train the RandomForestClassifier model\n",
    "rfc = RandomForestRegressor(random_state = 2, n_estimators = 10, max_depth =5)\n",
    "rfc.fit(X_train, y_train)"
   ]
  },
  {
   "cell_type": "code",
   "execution_count": 21,
   "metadata": {},
   "outputs": [],
   "source": [
    "y_hat_train1 = rfc.predict(X_train)\n",
    "y_hat_test1 = rfc.predict(X_test)\n"
   ]
  },
  {
   "cell_type": "code",
   "execution_count": 22,
   "metadata": {},
   "outputs": [
    {
     "name": "stdout",
     "output_type": "stream",
     "text": [
      "Mean Squared Error Train 44598084.57529831\n",
      "Mean Squared Error Test 44755331.98869176\n",
      "R-squared Score Train 0.6431309078037577\n",
      "R-squared Score Test: 0.6407911334966266\n"
     ]
    }
   ],
   "source": [
    "print('Mean Squared Error Train', mean_squared_error(y_train, y_hat_train1))\n",
    "print('Mean Squared Error Test', mean_squared_error(y_test,y_hat_test1))\n",
    "print('R-squared Score Train', rfc.score(X_train,y_train))\n",
    "print('R-squared Score Test:', rfc.score(X_test,y_test))"
   ]
  },
  {
   "cell_type": "code",
   "execution_count": 23,
   "metadata": {},
   "outputs": [
    {
     "data": {
      "image/png": "[encoded data removed]",
      "text/plain": [
       "<Figure size 432x288 with 1 Axes>"
      ]
     },
     "execution_count": 23,
     "metadata": {},
     "output_type": "execute_result"
    },
    {
     "data": {
      "image/png": "[encoded data removed]",
      "text/plain": [
       "<Figure size 432x288 with 1 Axes>"
      ]
     },
     "metadata": {
      "needs_background": "light"
     },
     "output_type": "display_data"
    }
   ],
   "source": [
    "import scipy.stats as stats\n",
    "residuals_r = (y_test - y_hat_test1)\n",
    "sm.graphics.qqplot(residuals_r, dist= stats.norm, line = \"45\", fit =True)\n"
   ]
  },
  {
   "cell_type": "markdown",
   "metadata": {},
   "source": [
    "# Random Forest with GridSearch"
   ]
  },
  {
   "cell_type": "code",
   "execution_count": 24,
   "metadata": {},
   "outputs": [],
   "source": [
    "from sklearn.model_selection import GridSearchCV\n",
    "rfc_param = { 'n_estimators': [100,200],\n",
    "               'max_depth' : [90,100],\n",
    "               'max_features': [2,3],\n",
    "              'min_samples_leaf':[3,4]}"
   ]
  },
  {
   "cell_type": "code",
   "execution_count": 25,
   "metadata": {},
   "outputs": [],
   "source": [
    "forest = RandomForestRegressor(random_state = 2)\n",
    "rfc_grid = GridSearchCV(estimator= forest,\n",
    "                          param_grid=rfc_param, n_jobs = -1, verbose=2 )"
   ]
  },
  {
   "cell_type": "code",
   "execution_count": 26,
   "metadata": {},
   "outputs": [
    {
     "name": "stdout",
     "output_type": "stream",
     "text": [
      "Fitting 5 folds for each of 16 candidates, totalling 80 fits\n"
     ]
    },
    {
     "name": "stderr",
     "output_type": "stream",
     "text": [
      "[Parallel(n_jobs=-1)]: Using backend LokyBackend with 8 concurrent workers.\n",
      "[Parallel(n_jobs=-1)]: Done  25 tasks      | elapsed:  7.8min\n",
      "[Parallel(n_jobs=-1)]: Done  80 out of  80 | elapsed: 24.5min finished\n"
     ]
    },
    {
     "data": {
      "text/plain": [
       "{'max_depth': 90,\n",
       " 'max_features': 3,\n",
       " 'min_samples_leaf': 3,\n",
       " 'n_estimators': 100}"
      ]
     },
     "execution_count": 26,
     "metadata": {},
     "output_type": "execute_result"
    }
   ],
   "source": [
    "rfc_grid.fit(X_train, y_train)\n",
    "rfc_grid.best_params_"
   ]
  },
  {
   "cell_type": "code",
   "execution_count": 27,
   "metadata": {},
   "outputs": [],
   "source": [
    "y_hat_train2 = rfc_grid.predict(X_train)\n",
    "y_hat_test2= rfc_grid.predict(X_test)\n"
   ]
  },
  {
   "cell_type": "code",
   "execution_count": 28,
   "metadata": {},
   "outputs": [
    {
     "name": "stdout",
     "output_type": "stream",
     "text": [
      "Mean Squared Error Train  31241471.647450704\n",
      "Mean Squared Error Test 32856754.545662798\n",
      "R-squared Score Test: 0.7362897998319129\n"
     ]
    }
   ],
   "source": [
    "print('Mean Squared Error Train ', mean_squared_error(y_train, y_hat_train2))\n",
    "print('Mean Squared Error Test', mean_squared_error(y_test,y_hat_test2))\n",
    "print('R-squared Score Test:', rfc_grid.score(X_test,y_test))"
   ]
  },
  {
   "cell_type": "code",
   "execution_count": 29,
   "metadata": {},
   "outputs": [
    {
     "data": {
      "image/png": "[encoded data removed]",
      "text/plain": [
       "<Figure size 432x288 with 1 Axes>"
      ]
     },
     "execution_count": 29,
     "metadata": {},
     "output_type": "execute_result"
    },
    {
     "data": {
      "image/png": "[encoded data removed]",
      "text/plain": [
       "<Figure size 432x288 with 1 Axes>"
      ]
     },
     "metadata": {
      "needs_background": "light"
     },
     "output_type": "display_data"
    }
   ],
   "source": [
    "residuals_gr = (y_test - y_hat_test2)\n",
    "sm.graphics.qqplot(residuals_gr, dist= stats.norm, line = \"r\", fit =True)\n"
   ]
  },
  {
   "cell_type": "code",
   "execution_count": 30,
   "metadata": {},
   "outputs": [],
   "source": [
    "best_grid = rfc_grid.best_estimator_"
   ]
  },
  {
   "cell_type": "code",
   "execution_count": 31,
   "metadata": {},
   "outputs": [],
   "source": [
    "importances= best_grid.feature_importances_\n",
    "indices = np.argsort(importances)[::-1]\n",
    "feature = []\n",
    "importance =[]\n",
    "for f in range(X.shape[1]):\n",
    "    feature.append(X.columns[indices[f]])\n",
    "    importance.append(round(importances[indices[f]],3))\n"
   ]
  },
  {
   "cell_type": "code",
   "execution_count": 32,
   "metadata": {},
   "outputs": [
    {
     "data": {
      "text/html": [
       "<div>\n",
       "<style scoped>\n",
       "    .dataframe tbody tr th:only-of-type {\n",
       "        vertical-align: middle;\n",
       "    }\n",
       "\n",
       "    .dataframe tbody tr th {\n",
       "        vertical-align: top;\n",
       "    }\n",
       "\n",
       "    .dataframe thead th {\n",
       "        text-align: right;\n",
       "    }\n",
       "</style>\n",
       "<table border=\"1\" class=\"dataframe\">\n",
       "  <thead>\n",
       "    <tr style=\"text-align: right;\">\n",
       "      <th></th>\n",
       "      <th>Features</th>\n",
       "      <th>Importance(%)</th>\n",
       "    </tr>\n",
       "  </thead>\n",
       "  <tbody>\n",
       "    <tr>\n",
       "      <th>0</th>\n",
       "      <td>year</td>\n",
       "      <td>0.292</td>\n",
       "    </tr>\n",
       "    <tr>\n",
       "      <th>1</th>\n",
       "      <td>odometer</td>\n",
       "      <td>0.209</td>\n",
       "    </tr>\n",
       "    <tr>\n",
       "      <th>2</th>\n",
       "      <td>drive_fwd</td>\n",
       "      <td>0.053</td>\n",
       "    </tr>\n",
       "    <tr>\n",
       "      <th>3</th>\n",
       "      <td>type_pickup</td>\n",
       "      <td>0.044</td>\n",
       "    </tr>\n",
       "    <tr>\n",
       "      <th>4</th>\n",
       "      <td>cylinders_4</td>\n",
       "      <td>0.032</td>\n",
       "    </tr>\n",
       "    <tr>\n",
       "      <th>5</th>\n",
       "      <td>cylinders_8</td>\n",
       "      <td>0.031</td>\n",
       "    </tr>\n",
       "    <tr>\n",
       "      <th>6</th>\n",
       "      <td>fuel_gas</td>\n",
       "      <td>0.031</td>\n",
       "    </tr>\n",
       "    <tr>\n",
       "      <th>7</th>\n",
       "      <td>transmission_other</td>\n",
       "      <td>0.026</td>\n",
       "    </tr>\n",
       "    <tr>\n",
       "      <th>8</th>\n",
       "      <td>size_unknown</td>\n",
       "      <td>0.020</td>\n",
       "    </tr>\n",
       "    <tr>\n",
       "      <th>9</th>\n",
       "      <td>type_sedan</td>\n",
       "      <td>0.018</td>\n",
       "    </tr>\n",
       "    <tr>\n",
       "      <th>10</th>\n",
       "      <td>manufacturer_ram</td>\n",
       "      <td>0.016</td>\n",
       "    </tr>\n",
       "    <tr>\n",
       "      <th>11</th>\n",
       "      <td>type_truck</td>\n",
       "      <td>0.015</td>\n",
       "    </tr>\n",
       "    <tr>\n",
       "      <th>12</th>\n",
       "      <td>drive_unknown</td>\n",
       "      <td>0.015</td>\n",
       "    </tr>\n",
       "    <tr>\n",
       "      <th>13</th>\n",
       "      <td>condition_good</td>\n",
       "      <td>0.012</td>\n",
       "    </tr>\n",
       "    <tr>\n",
       "      <th>14</th>\n",
       "      <td>condition_fair</td>\n",
       "      <td>0.012</td>\n",
       "    </tr>\n",
       "  </tbody>\n",
       "</table>\n",
       "</div>"
      ],
      "text/plain": [
       "              Features  Importance(%)\n",
       "0                 year          0.292\n",
       "1             odometer          0.209\n",
       "2            drive_fwd          0.053\n",
       "3          type_pickup          0.044\n",
       "4          cylinders_4          0.032\n",
       "5          cylinders_8          0.031\n",
       "6             fuel_gas          0.031\n",
       "7   transmission_other          0.026\n",
       "8         size_unknown          0.020\n",
       "9           type_sedan          0.018\n",
       "10    manufacturer_ram          0.016\n",
       "11          type_truck          0.015\n",
       "12       drive_unknown          0.015\n",
       "13      condition_good          0.012\n",
       "14      condition_fair          0.012"
      ]
     },
     "execution_count": 32,
     "metadata": {},
     "output_type": "execute_result"
    }
   ],
   "source": [
    "features=pd.DataFrame({'Features':feature[:15], 'Importance(%)':importance[:15]})\n",
    "features"
   ]
  },
  {
   "cell_type": "code",
   "execution_count": 33,
   "metadata": {},
   "outputs": [
    {
     "data": {
      "text/plain": [
       "Text(0.5, 1.0, 'Top 15 Important Features')"
      ]
     },
     "execution_count": 33,
     "metadata": {},
     "output_type": "execute_result"
    },
    {
     "data": {
      "image/png": "[encoded data removed]",
      "text/plain": [
       "<Figure size 864x720 with 1 Axes>"
      ]
     },
     "metadata": {
      "needs_background": "light"
     },
     "output_type": "display_data"
    }
   ],
   "source": [
    "#plotting the top 15 important Features of the Decision Tree of resampled data\n",
    "plt.figure(figsize = (12,10))\n",
    "sns.barplot(y=feature[:15], x=importance[:15])\n",
    "plt.title(\"Top 15 Important Features\")"
   ]
  },
  {
   "cell_type": "markdown",
   "metadata": {},
   "source": [
    "# Neutral Network Model"
   ]
  },
  {
   "cell_type": "code",
   "execution_count": 34,
   "metadata": {},
   "outputs": [],
   "source": [
    "from keras.layers import Input, Dense,Dropout, Activation\n",
    "from keras.models import Sequential\n",
    "from keras.wrappers.scikit_learn import KerasRegressor"
   ]
  },
  {
   "cell_type": "code",
   "execution_count": 35,
   "metadata": {},
   "outputs": [],
   "source": [
    "y = df1['price']\n",
    "X = df1.drop(['price'], axis = 1)\n",
    "\n",
    "X_train_tk, X_test_tk,y_train_tk,y_test_tk = train_test_split(X,y,\n",
    "                                                            test_size=0.20,\n",
    "                                                            random_state=42)"
   ]
  },
  {
   "cell_type": "code",
   "execution_count": 42,
   "metadata": {},
   "outputs": [],
   "source": [
    "def build_model():\n",
    "    model = Sequential()\n",
    "    model.add(Dense(128, input_dim =93, activation='relu', kernel_initializer= 'normal'))\n",
    "    model.add(Dense(64, activation = 'relu'))\n",
    "    model.add(Dense(64, activation = 'relu'))\n",
    "    model.add(Dense(32, activation='relu'))\n",
    "    model.add(Dense(1, kernel_initializer ='normal'))\n",
    "   \n",
    "    model.compile(loss='mse', optimizer='adam',\n",
    "             metrics=['mae','mse'])\n",
    "    return model"
   ]
  },
  {
   "cell_type": "code",
   "execution_count": 43,
   "metadata": {
    "scrolled": true
   },
   "outputs": [
    {
     "name": "stdout",
     "output_type": "stream",
     "text": [
      "Model: \"sequential_2\"\n",
      "_________________________________________________________________\n",
      "Layer (type)                 Output Shape              Param #   \n",
      "=================================================================\n",
      "dense_10 (Dense)             (None, 128)               12032     \n",
      "_________________________________________________________________\n",
      "dense_11 (Dense)             (None, 64)                8256      \n",
      "_________________________________________________________________\n",
      "dense_12 (Dense)             (None, 64)                4160      \n",
      "_________________________________________________________________\n",
      "dense_13 (Dense)             (None, 32)                2080      \n",
      "_________________________________________________________________\n",
      "dense_14 (Dense)             (None, 1)                 33        \n",
      "=================================================================\n",
      "Total params: 26,561\n",
      "Trainable params: 26,561\n",
      "Non-trainable params: 0\n",
      "_________________________________________________________________\n"
     ]
    }
   ],
   "source": [
    "model1=build_model()\n",
    "model1.summary()"
   ]
  },
  {
   "cell_type": "code",
   "execution_count": 44,
   "metadata": {},
   "outputs": [],
   "source": [
    "EPOCHS=10\n",
    "history = model1.fit(X_train_tk, y_train_tk, epochs=EPOCHS, validation_split=0.2,\n",
    "                   verbose=0)"
   ]
  },
  {
   "cell_type": "code",
   "execution_count": 46,
   "metadata": {},
   "outputs": [],
   "source": [
    "train_pred= model1.predict(X_train_tk).flatten()\n",
    "test_pred = model1.predict(X_test_tk).flatten()"
   ]
  },
  {
   "cell_type": "code",
   "execution_count": 47,
   "metadata": {
    "scrolled": false
   },
   "outputs": [
    {
     "name": "stdout",
     "output_type": "stream",
     "text": [
      "Train Mean Squared error 48642697.53215554\n",
      "Test Mean Squared error 48622767.684527494\n",
      "Train R2-score 0.6107663484747174\n",
      "test R2-score 0.6097508723512763\n"
     ]
    }
   ],
   "source": [
    "from sklearn.metrics import r2_score,mean_squared_error\n",
    "print('Train Mean Squared error', mean_squared_error(y_train_tk, train_pred))\n",
    "print('Test Mean Squared error', mean_squared_error(y_test_tk, test_pred))\n",
    "print('Train R2-score',r2_score(y_train_tk, train_pred))\n",
    "print('test R2-score',r2_score(y_test_tk, test_pred))"
   ]
  },
  {
   "cell_type": "code",
   "execution_count": 48,
   "metadata": {},
   "outputs": [
    {
     "data": {
      "image/png": "[encoded data removed]",
      "text/plain": [
       "<Figure size 432x288 with 1 Axes>"
      ]
     },
     "execution_count": 48,
     "metadata": {},
     "output_type": "execute_result"
    },
    {
     "data": {
      "image/png": "[encoded data removed]",
      "text/plain": [
       "<Figure size 432x288 with 1 Axes>"
      ]
     },
     "metadata": {
      "needs_background": "light"
     },
     "output_type": "display_data"
    }
   ],
   "source": [
    "residuals_n = (y_test_tk - test_pred)\n",
    "sm.graphics.qqplot(residuals_n, dist= stats.norm, line = \"r\", fit =True)\n"
   ]
  },
  {
   "cell_type": "code",
   "execution_count": 49,
   "metadata": {},
   "outputs": [
    {
     "data": {
      "image/png": "[encoded data removed]",
      "text/plain": [
       "<Figure size 432x288 with 1 Axes>"
      ]
     },
     "metadata": {
      "needs_background": "light"
     },
     "output_type": "display_data"
    }
   ],
   "source": [
    "#plotting the Accuracy between training and test sets\n",
    "import matplotlib.pyplot as plt\n",
    "# plt.ylim(0.5,0.9)\n",
    "plt.plot(history.history['mse'])\n",
    "plt.plot(history.history['val_mse'])\n",
    "\n",
    "plt.title('Model Mean Squared Error')\n",
    "plt.ylabel('Mean Squared Error')\n",
    "plt.xlabel('epoch')\n",
    "plt.legend(['train','test'], loc='upper left')\n",
    "plt.show()"
   ]
  },
  {
   "cell_type": "code",
   "execution_count": 50,
   "metadata": {},
   "outputs": [
    {
     "data": {
      "image/png": "[encoded data removed]",
      "text/plain": [
       "<Figure size 432x288 with 1 Axes>"
      ]
     },
     "metadata": {
      "needs_background": "light"
     },
     "output_type": "display_data"
    }
   ],
   "source": [
    "#plotting the loss between training and test sets\n",
    "\n",
    "plt.plot(history.history['loss'])\n",
    "plt.plot(history.history['val_loss'])\n",
    "plt.title('Model loss')\n",
    "plt.ylabel('loss')\n",
    "plt.xlabel('epoch')\n",
    "plt.legend(['train','test'], loc='upper left')\n",
    "plt.show()"
   ]
  },
  {
   "cell_type": "markdown",
   "metadata": {},
   "source": [
    "# Standardized Dataset"
   ]
  },
  {
   "cell_type": "markdown",
   "metadata": {},
   "source": [
    "Standardizing the train and test data using sklearn Standardscaler."
   ]
  },
  {
   "cell_type": "code",
   "execution_count": 51,
   "metadata": {},
   "outputs": [],
   "source": [
    "#standardized the train and test data\n",
    "from sklearn.preprocessing import StandardScaler\n",
    "sc=StandardScaler()\n",
    "X_train_sc= sc.fit_transform(X_train_tk)\n",
    "X_test_sc = sc.fit_transform(X_test_tk)"
   ]
  },
  {
   "cell_type": "code",
   "execution_count": 52,
   "metadata": {},
   "outputs": [
    {
     "name": "stdout",
     "output_type": "stream",
     "text": [
      "Model: \"sequential_3\"\n",
      "_________________________________________________________________\n",
      "Layer (type)                 Output Shape              Param #   \n",
      "=================================================================\n",
      "dense_15 (Dense)             (None, 128)               12032     \n",
      "_________________________________________________________________\n",
      "dense_16 (Dense)             (None, 64)                8256      \n",
      "_________________________________________________________________\n",
      "dense_17 (Dense)             (None, 64)                4160      \n",
      "_________________________________________________________________\n",
      "dense_18 (Dense)             (None, 32)                2080      \n",
      "_________________________________________________________________\n",
      "dense_19 (Dense)             (None, 1)                 33        \n",
      "=================================================================\n",
      "Total params: 26,561\n",
      "Trainable params: 26,561\n",
      "Non-trainable params: 0\n",
      "_________________________________________________________________\n"
     ]
    }
   ],
   "source": [
    "model2=build_model()\n",
    "model2.summary()"
   ]
  },
  {
   "cell_type": "code",
   "execution_count": 53,
   "metadata": {},
   "outputs": [],
   "source": [
    "EPOCHS=10\n",
    "history1 = model2.fit(X_train_sc, y_train_tk, epochs=EPOCHS, validation_split=0.2,\n",
    "                   verbose=0)"
   ]
  },
  {
   "cell_type": "code",
   "execution_count": 54,
   "metadata": {},
   "outputs": [],
   "source": [
    "train_pred1= model2.predict(X_train_sc).flatten()\n",
    "test_pred1 = model2.predict(X_test_sc).flatten()"
   ]
  },
  {
   "cell_type": "code",
   "execution_count": 55,
   "metadata": {},
   "outputs": [
    {
     "name": "stdout",
     "output_type": "stream",
     "text": [
      "Train Mean Squared error 22084242.589710906\n",
      "Test Mean Squared error 23025315.259383038\n",
      "test R2-score 0.8151974965285567\n"
     ]
    }
   ],
   "source": [
    "print('Train Mean Squared error', mean_squared_error(y_train_tk, train_pred1))\n",
    "print('Test Mean Squared error', mean_squared_error(y_test_tk, test_pred1))\n",
    "print('test R2-score',r2_score(y_test_tk, test_pred1))"
   ]
  },
  {
   "cell_type": "code",
   "execution_count": 56,
   "metadata": {},
   "outputs": [
    {
     "data": {
      "image/png": "[encoded data removed]",
      "text/plain": [
       "<Figure size 432x288 with 1 Axes>"
      ]
     },
     "execution_count": 56,
     "metadata": {},
     "output_type": "execute_result"
    },
    {
     "data": {
      "image/png": "[encoded data removed]",
      "text/plain": [
       "<Figure size 432x288 with 1 Axes>"
      ]
     },
     "metadata": {
      "needs_background": "light"
     },
     "output_type": "display_data"
    }
   ],
   "source": [
    "residuals_nn = (y_test_tk - test_pred1)\n",
    "sm.graphics.qqplot(residuals_nn, dist= stats.norm, line = \"45\", fit =True)\n"
   ]
  },
  {
   "cell_type": "code",
   "execution_count": 57,
   "metadata": {},
   "outputs": [
    {
     "data": {
      "image/png": "[encoded data removed]",
      "text/plain": [
       "<Figure size 432x288 with 1 Axes>"
      ]
     },
     "metadata": {
      "needs_background": "light"
     },
     "output_type": "display_data"
    }
   ],
   "source": [
    "#plotting the MSE between training and test sets\n",
    "import matplotlib.pyplot as plt\n",
    "\n",
    "plt.plot(history1.history['mse'])\n",
    "plt.plot(history1.history['val_mse'])\n",
    "\n",
    "plt.title('Model Mean Squared Error')\n",
    "plt.ylabel('Mean Squared Error')\n",
    "plt.xlabel('epoch')\n",
    "plt.legend(['train','test'], loc='upper left')\n",
    "plt.show()"
   ]
  },
  {
   "cell_type": "code",
   "execution_count": 58,
   "metadata": {},
   "outputs": [
    {
     "data": {
      "image/png": "[encoded data removed]",
      "text/plain": [
       "<Figure size 432x288 with 1 Axes>"
      ]
     },
     "metadata": {
      "needs_background": "light"
     },
     "output_type": "display_data"
    }
   ],
   "source": [
    "#plotting the loss between training and test sets\n",
    "\n",
    "plt.plot(history1.history['loss'])\n",
    "plt.plot(history1.history['val_loss'])\n",
    "plt.title('Model loss')\n",
    "plt.ylabel('loss')\n",
    "plt.xlabel('epoch')\n",
    "plt.legend(['train','test'], loc='upper left')\n",
    "plt.show()"
   ]
  },
  {
   "cell_type": "markdown",
   "metadata": {},
   "source": [
    "**Making Predictions on Single instance**<br>\n",
    "Let's check a single entire of the test data in the standardized neutral network Model"
   ]
  },
  {
   "cell_type": "code",
   "execution_count": 69,
   "metadata": {},
   "outputs": [
    {
     "data": {
      "text/plain": [
       "array([[ 0.02803497, -0.0233127 , -0.01852047, -0.00629014, -0.11531101,\n",
       "        -0.17269858, -0.12338203, -0.12529602, -0.41326346, -0.13279587,\n",
       "        -0.01309483, -0.19395323, -0.00363156, -0.05051531,  2.1535136 ,\n",
       "        -0.19816042, -0.02054743, -0.25336671, -0.16182466, -0.09160521,\n",
       "        -0.05064634, -0.22716799, -0.14417231, -0.00812064, -0.13615038,\n",
       "        -0.08923321, -0.12099164, -0.15562432, -0.06510049, -0.07700671,\n",
       "        -0.06954808,  0.        , -0.23542652, -0.08555599, -0.06291939,\n",
       "        -0.19533995, -0.0536963 , -0.05728332, -0.1638303 , -0.04466962,\n",
       "        -0.31081695, -0.16169589, -0.08081408, -0.41618997,  3.07950325,\n",
       "        -0.08817605, -1.52799542, -0.02742784,  1.90407744, -0.06760685,\n",
       "        -0.56562326, -0.45473755, -0.05244681, -0.01358924, -0.12556721,\n",
       "        -0.61962785, -0.04207532, -0.03369664,  1.25342336, -0.24077633,\n",
       "        -0.33204722,  2.87334361, -0.2518305 , -0.47560903, -0.45346992,\n",
       "        -0.29339976, -0.30096879,  1.60101589, -0.38906739, -0.6313405 ,\n",
       "        -0.0698347 ,  0.33351403, -0.11542838, -0.18122003, -0.06770521,\n",
       "        -0.03349993, -0.01258102, -0.14868287, -0.09873086, -0.2463964 ,\n",
       "        -0.29281613, -0.03167492, -0.12436982, -0.20918783, -0.1996651 ,\n",
       "        -0.12160734, -0.03794168, -0.64400572, -0.32769711,  1.94175976,\n",
       "        -0.26646543, -0.14649047, -0.15677613]])"
      ]
     },
     "execution_count": 69,
     "metadata": {},
     "output_type": "execute_result"
    }
   ],
   "source": [
    "example1= X_test_sc[106:107]\n",
    "example1"
   ]
  },
  {
   "cell_type": "code",
   "execution_count": 70,
   "metadata": {},
   "outputs": [
    {
     "name": "stdout",
     "output_type": "stream",
     "text": [
      "Acutual Price: 167526    5395\n",
      "Name: price, dtype: int64\n",
      "Predicted Price: [[7064.4355]]\n"
     ]
    }
   ],
   "source": [
    "print('Acutual Price:', y_test_tk[26:27])\n",
    "example_pred1 = model2.predict(example1)\n",
    "print('Predicted Price:',example_pred1)"
   ]
  },
  {
   "cell_type": "markdown",
   "metadata": {},
   "source": [
    "# Conclusion"
   ]
  },
  {
   "cell_type": "markdown",
   "metadata": {},
   "source": [
    "| Model | Train mse | Test mse | R2\n",
    "| :- |:------:|:------:| :-:\n",
    "|Linear Regression| 43949336.94|44100238.79|0.65\n",
    "|Random Forest| 44598084.57| 44755331.99|0.64\n",
    "|Random Forest with Gridsearch|31241471.65|32856754.55|0.74\n",
    "|Neural Network|48642697.53| 48622767.68|0.61\n",
    "|Neutral Network Standardized data|22084242.59|23025315.26|0.82"
   ]
  },
  {
   "cell_type": "markdown",
   "metadata": {},
   "source": [
    "Comparing all the models, Neutral Network standardized data is the best model to predict price of the vehicle from dataset. Odometer and year  of the vehicles has big impact on the price of the vehicles.The condition, drive and manufacturer of vehicles also have effect on the price of vehicle. "
   ]
  },
  {
   "cell_type": "code",
   "execution_count": null,
   "metadata": {},
   "outputs": [],
   "source": []
  }
 ],
 "metadata": {
  "kernelspec": {
   "display_name": "Python 3",
   "language": "python",
   "name": "python3"
  },
  "language_info": {
   "codemirror_mode": {
    "name": "ipython",
    "version": 3
   },
   "file_extension": ".py",
   "mimetype": "text/x-python",
   "name": "python",
   "nbconvert_exporter": "python",
   "pygments_lexer": "ipython3",
   "version": "3.8.5"
  },
  "toc": {
   "base_numbering": 1,
   "nav_menu": {},
   "number_sections": true,
   "sideBar": true,
   "skip_h1_title": false,
   "title_cell": "Table of Contents",
   "title_sidebar": "Contents",
   "toc_cell": false,
   "toc_position": {},
   "toc_section_display": true,
   "toc_window_display": false
  },
  "varInspector": {
   "cols": {
    "lenName": 16,
    "lenType": 16,
    "lenVar": 40
   },
   "kernels_config": {
    "python": {
     "delete_cmd_postfix": "",
     "delete_cmd_prefix": "del ",
     "library": "var_list.py",
     "varRefreshCmd": "print(var_dic_list())"
    },
    "r": {
     "delete_cmd_postfix": ") ",
     "delete_cmd_prefix": "rm(",
     "library": "var_list.r",
     "varRefreshCmd": "cat(var_dic_list()) "
    }
   },
   "types_to_exclude": [
    "module",
    "function",
    "builtin_function_or_method",
    "instance",
    "_Feature"
   ],
   "window_display": false
  }
 },
 "nbformat": 4,
 "nbformat_minor": 4
}
