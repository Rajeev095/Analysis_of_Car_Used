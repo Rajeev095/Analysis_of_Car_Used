{
 "cells": [
  {
   "cell_type": "markdown",
   "metadata": {},
   "source": [
    "![image4](Image/cragslist.jpg)"
   ]
  },
  {
   "cell_type": "markdown",
   "metadata": {},
   "source": [
    "# **Problem Statement**"
   ]
  },
  {
   "cell_type": "markdown",
   "metadata": {},
   "source": [
    "Buying a car is never an easy task, especially when buying a used one. So many different factors go into determining the price of a vehicle that it’s difficult to accurately predict what one should be paying. Aside from this there are some parts of the country where used car sales are few and far between and the prices are not so desirable. \n",
    "Using scraped dataset of used car for sales from craigslist and to clarify some of these unknown variables and provide an easier experience for those searching for a car. To solve this we need an array of strategies to predict the price of the used car as accurate as possible."
   ]
  },
  {
   "cell_type": "markdown",
   "metadata": {},
   "source": [
    "# Import Data"
   ]
  },
  {
   "cell_type": "markdown",
   "metadata": {},
   "source": [
    "The data for this project is obtain from kaggle datasets, it consists over 450000 entries and it's a listing on craigslist from October to December of 2020 used cars sales.<br>\n",
    "The data is available on kaggle- https://www.kaggle.com/austinreese/craigslist-carstrucks-data?\n",
    "\n",
    "This data is originally scraped by Austin Reese, it contains most all relevant information that<br> Craigslist provides on car sales including columns like price, condition, manufacturer, latitude/longitude, and 18 other categories. "
   ]
  },
  {
   "cell_type": "code",
   "execution_count": 1,
   "metadata": {},
   "outputs": [],
   "source": [
    "#importing libraries\n",
    "import pandas as pd\n",
    "import numpy as np\n",
    "import seaborn as sns\n",
    "import matplotlib.pyplot as plt\n",
    "%matplotlib inline\n",
    "\n",
    "pd.set_option('display.max_columns', None)\n",
    "pd.set_option('display.max_rows', None)"
   ]
  },
  {
   "cell_type": "code",
   "execution_count": 2,
   "metadata": {},
   "outputs": [],
   "source": [
    "#loading the data into dataframe using pandas\n",
    "cars_df= pd.read_csv(\"vehicles.csv\")"
   ]
  },
  {
   "cell_type": "code",
   "execution_count": 3,
   "metadata": {},
   "outputs": [
    {
     "data": {
      "text/plain": [
       "(458213, 26)"
      ]
     },
     "execution_count": 3,
     "metadata": {},
     "output_type": "execute_result"
    }
   ],
   "source": [
    "#checking the size of data\n",
    "cars_df.shape"
   ]
  },
  {
   "cell_type": "code",
   "execution_count": 4,
   "metadata": {},
   "outputs": [
    {
     "name": "stdout",
     "output_type": "stream",
     "text": [
      "<class 'pandas.core.frame.DataFrame'>\n",
      "RangeIndex: 458213 entries, 0 to 458212\n",
      "Data columns (total 26 columns):\n",
      " #   Column        Non-Null Count   Dtype  \n",
      "---  ------        --------------   -----  \n",
      " 0   Unnamed: 0    458213 non-null  int64  \n",
      " 1   id            458213 non-null  int64  \n",
      " 2   url           458213 non-null  object \n",
      " 3   region        458213 non-null  object \n",
      " 4   region_url    458213 non-null  object \n",
      " 5   price         458213 non-null  int64  \n",
      " 6   year          457163 non-null  float64\n",
      " 7   manufacturer  439993 non-null  object \n",
      " 8   model         453367 non-null  object \n",
      " 9   condition     265273 non-null  object \n",
      " 10  cylinders     287073 non-null  object \n",
      " 11  fuel          454976 non-null  object \n",
      " 12  odometer      402910 non-null  float64\n",
      " 13  title_status  455636 non-null  object \n",
      " 14  transmission  455771 non-null  object \n",
      " 15  VIN           270664 non-null  object \n",
      " 16  drive         324025 non-null  object \n",
      " 17  size          136865 non-null  object \n",
      " 18  type          345475 non-null  object \n",
      " 19  paint_color   317370 non-null  object \n",
      " 20  image_url     458185 non-null  object \n",
      " 21  description   458143 non-null  object \n",
      " 22  state         458213 non-null  object \n",
      " 23  lat           450765 non-null  float64\n",
      " 24  long          450765 non-null  float64\n",
      " 25  posting_date  458185 non-null  object \n",
      "dtypes: float64(4), int64(3), object(19)\n",
      "memory usage: 90.9+ MB\n"
     ]
    }
   ],
   "source": [
    "#checking the columns of data\n",
    "cars_df.info()"
   ]
  },
  {
   "cell_type": "markdown",
   "metadata": {},
   "source": [
    "Our dataset contains over 450000 used vehicle sales  entries from Craigslist.org\n",
    "\n",
    "The columns are as follows:\n",
    "\n",
    "- **id** -   Unique identification number\n",
    "- **url** -  Listing URL\n",
    "- **region** - Craigslist region\n",
    "- **region** - Region listing URL\n",
    "- **price** - Listing price\n",
    "- **year** -  Year of manufacturing\n",
    "- **manufacturer** -  Manufacturing company\n",
    "- **model** - Model of vehicle\n",
    "- **condition** - Condition of vehicle\n",
    "- **cylinders** - Number of cylinders\n",
    "- **fuel** - String - Type of fuel required\n",
    "- **odometer** - Miles traveled\n",
    "- **title_status** - Vehicle title status/existence\n",
    "- **transmission** - Transmission of vehicle\n",
    "- **drive** -  Drive of vehicle\n",
    "- **size** - Size of vehicle\n",
    "- **type** - Type of vehicle\n",
    "- **paint_color** - Color of vehicle\n",
    "- **image_url** - Image URL\n",
    "- **description** - Description about the sale\n",
    "- **state** - 2 letter state abbreviation\n",
    "- **latitude** - Latitude of listing\n",
    "- **longitude** - Integer - Longitude of listing\n",
    "- **posting_date** - Posting Date of the sale<br>\n",
    "The dataset has 7 continuous columns (float and int type) and 19  catergorical columns (object type). "
   ]
  },
  {
   "cell_type": "code",
   "execution_count": 5,
   "metadata": {},
   "outputs": [
    {
     "data": {
      "text/html": [
       "<div>\n",
       "<style scoped>\n",
       "    .dataframe tbody tr th:only-of-type {\n",
       "        vertical-align: middle;\n",
       "    }\n",
       "\n",
       "    .dataframe tbody tr th {\n",
       "        vertical-align: top;\n",
       "    }\n",
       "\n",
       "    .dataframe thead th {\n",
       "        text-align: right;\n",
       "    }\n",
       "</style>\n",
       "<table border=\"1\" class=\"dataframe\">\n",
       "  <thead>\n",
       "    <tr style=\"text-align: right;\">\n",
       "      <th></th>\n",
       "      <th>Unnamed: 0</th>\n",
       "      <th>id</th>\n",
       "      <th>url</th>\n",
       "      <th>region</th>\n",
       "      <th>region_url</th>\n",
       "      <th>price</th>\n",
       "      <th>year</th>\n",
       "      <th>manufacturer</th>\n",
       "      <th>model</th>\n",
       "      <th>condition</th>\n",
       "      <th>cylinders</th>\n",
       "      <th>fuel</th>\n",
       "      <th>odometer</th>\n",
       "      <th>title_status</th>\n",
       "      <th>transmission</th>\n",
       "      <th>VIN</th>\n",
       "      <th>drive</th>\n",
       "      <th>size</th>\n",
       "      <th>type</th>\n",
       "      <th>paint_color</th>\n",
       "      <th>image_url</th>\n",
       "      <th>description</th>\n",
       "      <th>state</th>\n",
       "      <th>lat</th>\n",
       "      <th>long</th>\n",
       "      <th>posting_date</th>\n",
       "    </tr>\n",
       "  </thead>\n",
       "  <tbody>\n",
       "    <tr>\n",
       "      <th>0</th>\n",
       "      <td>0</td>\n",
       "      <td>7240372487</td>\n",
       "      <td>https://auburn.craigslist.org/ctd/d/auburn-uni...</td>\n",
       "      <td>auburn</td>\n",
       "      <td>https://auburn.craigslist.org</td>\n",
       "      <td>35990</td>\n",
       "      <td>2010.0</td>\n",
       "      <td>chevrolet</td>\n",
       "      <td>corvette grand sport</td>\n",
       "      <td>good</td>\n",
       "      <td>8 cylinders</td>\n",
       "      <td>gas</td>\n",
       "      <td>32742.0</td>\n",
       "      <td>clean</td>\n",
       "      <td>other</td>\n",
       "      <td>1G1YU3DW1A5106980</td>\n",
       "      <td>rwd</td>\n",
       "      <td>NaN</td>\n",
       "      <td>other</td>\n",
       "      <td>NaN</td>\n",
       "      <td>https://images.craigslist.org/00N0N_ipkbHVZYf4...</td>\n",
       "      <td>Carvana is the safer way to buy a car During t...</td>\n",
       "      <td>al</td>\n",
       "      <td>32.5900</td>\n",
       "      <td>-85.4800</td>\n",
       "      <td>2020-12-02T08:11:30-0600</td>\n",
       "    </tr>\n",
       "    <tr>\n",
       "      <th>1</th>\n",
       "      <td>1</td>\n",
       "      <td>7240309422</td>\n",
       "      <td>https://auburn.craigslist.org/cto/d/auburn-201...</td>\n",
       "      <td>auburn</td>\n",
       "      <td>https://auburn.craigslist.org</td>\n",
       "      <td>7500</td>\n",
       "      <td>2014.0</td>\n",
       "      <td>hyundai</td>\n",
       "      <td>sonata</td>\n",
       "      <td>excellent</td>\n",
       "      <td>4 cylinders</td>\n",
       "      <td>gas</td>\n",
       "      <td>93600.0</td>\n",
       "      <td>clean</td>\n",
       "      <td>automatic</td>\n",
       "      <td>5NPEC4AB0EH813529</td>\n",
       "      <td>fwd</td>\n",
       "      <td>NaN</td>\n",
       "      <td>sedan</td>\n",
       "      <td>NaN</td>\n",
       "      <td>https://images.craigslist.org/00s0s_gBHYmJ5o7y...</td>\n",
       "      <td>I'll move to another city and try to sell my c...</td>\n",
       "      <td>al</td>\n",
       "      <td>32.5475</td>\n",
       "      <td>-85.4682</td>\n",
       "      <td>2020-12-02T02:11:50-0600</td>\n",
       "    </tr>\n",
       "  </tbody>\n",
       "</table>\n",
       "</div>"
      ],
      "text/plain": [
       "   Unnamed: 0          id                                                url  \\\n",
       "0           0  7240372487  https://auburn.craigslist.org/ctd/d/auburn-uni...   \n",
       "1           1  7240309422  https://auburn.craigslist.org/cto/d/auburn-201...   \n",
       "\n",
       "   region                     region_url  price    year manufacturer  \\\n",
       "0  auburn  https://auburn.craigslist.org  35990  2010.0    chevrolet   \n",
       "1  auburn  https://auburn.craigslist.org   7500  2014.0      hyundai   \n",
       "\n",
       "                  model  condition    cylinders fuel  odometer title_status  \\\n",
       "0  corvette grand sport       good  8 cylinders  gas   32742.0        clean   \n",
       "1                sonata  excellent  4 cylinders  gas   93600.0        clean   \n",
       "\n",
       "  transmission                VIN drive size   type paint_color  \\\n",
       "0        other  1G1YU3DW1A5106980   rwd  NaN  other         NaN   \n",
       "1    automatic  5NPEC4AB0EH813529   fwd  NaN  sedan         NaN   \n",
       "\n",
       "                                           image_url  \\\n",
       "0  https://images.craigslist.org/00N0N_ipkbHVZYf4...   \n",
       "1  https://images.craigslist.org/00s0s_gBHYmJ5o7y...   \n",
       "\n",
       "                                         description state      lat     long  \\\n",
       "0  Carvana is the safer way to buy a car During t...    al  32.5900 -85.4800   \n",
       "1  I'll move to another city and try to sell my c...    al  32.5475 -85.4682   \n",
       "\n",
       "               posting_date  \n",
       "0  2020-12-02T08:11:30-0600  \n",
       "1  2020-12-02T02:11:50-0600  "
      ]
     },
     "execution_count": 5,
     "metadata": {},
     "output_type": "execute_result"
    }
   ],
   "source": [
    "#printing the 2 rows of datasets\n",
    "cars_df.head(2)"
   ]
  },
  {
   "cell_type": "markdown",
   "metadata": {},
   "source": [
    "# Scrub (Data Preparation)"
   ]
  },
  {
   "cell_type": "markdown",
   "metadata": {},
   "source": [
    "Understanding and Fixing the datatypes including Catergorical and Continuous columns. Identifying and dealing with the missing data. "
   ]
  },
  {
   "cell_type": "markdown",
   "metadata": {},
   "source": [
    "# **Missing Values**"
   ]
  },
  {
   "cell_type": "code",
   "execution_count": 9,
   "metadata": {},
   "outputs": [
    {
     "data": {
      "text/plain": [
       "Unnamed: 0           0\n",
       "id                   0\n",
       "url                  0\n",
       "region               0\n",
       "region_url           0\n",
       "price                0\n",
       "year              1050\n",
       "manufacturer     18220\n",
       "model             4846\n",
       "condition       192940\n",
       "cylinders       171140\n",
       "fuel              3237\n",
       "odometer         55303\n",
       "title_status      2577\n",
       "transmission      2442\n",
       "VIN             187549\n",
       "drive           134188\n",
       "size            321348\n",
       "type            112738\n",
       "paint_color     140843\n",
       "image_url           28\n",
       "description         70\n",
       "state                0\n",
       "lat               7448\n",
       "long              7448\n",
       "posting_date        28\n",
       "dtype: int64"
      ]
     },
     "execution_count": 9,
     "metadata": {},
     "output_type": "execute_result"
    }
   ],
   "source": [
    "#checking Null values\n",
    "cars_df.isna().sum()"
   ]
  },
  {
   "cell_type": "markdown",
   "metadata": {},
   "source": [
    "**odometer**"
   ]
  },
  {
   "cell_type": "markdown",
   "metadata": {},
   "source": [
    "observing missing values in the column 'odometer', to  handle the nullvalues need to find out the median of the each year cars odometer reading and fill the median value of each year in the missing value."
   ]
  },
  {
   "cell_type": "code",
   "execution_count": 10,
   "metadata": {},
   "outputs": [
    {
     "data": {
      "text/plain": [
       "{1900.0: 1.0,\n",
       " 1910.0: nan,\n",
       " 1911.0: 0.0,\n",
       " 1912.0: 15.0,\n",
       " 1913.0: 93000.0,\n",
       " 1914.0: nan,\n",
       " 1915.0: nan,\n",
       " 1918.0: nan,\n",
       " 1919.0: nan,\n",
       " 1920.0: nan,\n",
       " 1921.0: nan,\n",
       " 1922.0: nan,\n",
       " 1923.0: 3750.0,\n",
       " 1924.0: 1100.0,\n",
       " 1925.0: 1000.0,\n",
       " 1926.0: 2055.0,\n",
       " 1927.0: 1000.0,\n",
       " 1928.0: 1500.0,\n",
       " 1929.0: 1100.0,\n",
       " 1930.0: 1077.0,\n",
       " 1931.0: 5722.0,\n",
       " 1932.0: 1500.0,\n",
       " 1933.0: 4300.0,\n",
       " 1934.0: 16000.0,\n",
       " 1935.0: 2450.0,\n",
       " 1936.0: 42623.0,\n",
       " 1937.0: 2555.0,\n",
       " 1938.0: 2700.0,\n",
       " 1939.0: 16672.5,\n",
       " 1940.0: 1000.0,\n",
       " 1941.0: 36921.0,\n",
       " 1942.0: 48500.0,\n",
       " 1943.0: nan,\n",
       " 1945.0: nan,\n",
       " 1946.0: 79087.0,\n",
       " 1947.0: 45000.0,\n",
       " 1948.0: 10172.5,\n",
       " 1949.0: 51000.0,\n",
       " 1950.0: 31000.0,\n",
       " 1951.0: 37430.0,\n",
       " 1952.0: 42500.0,\n",
       " 1953.0: 47063.0,\n",
       " 1954.0: 65636.0,\n",
       " 1955.0: 21388.5,\n",
       " 1956.0: 39917.5,\n",
       " 1957.0: 25058.0,\n",
       " 1958.0: 58000.0,\n",
       " 1959.0: 60852.5,\n",
       " 1960.0: 49000.0,\n",
       " 1961.0: 45500.0,\n",
       " 1962.0: 43000.0,\n",
       " 1963.0: 55350.5,\n",
       " 1964.0: 51000.0,\n",
       " 1965.0: 55000.0,\n",
       " 1966.0: 47000.0,\n",
       " 1967.0: 55597.0,\n",
       " 1968.0: 51232.0,\n",
       " 1969.0: 50375.0,\n",
       " 1970.0: 50658.0,\n",
       " 1971.0: 66000.0,\n",
       " 1972.0: 52000.0,\n",
       " 1973.0: 63667.0,\n",
       " 1974.0: 65034.0,\n",
       " 1975.0: 75968.5,\n",
       " 1976.0: 55000.0,\n",
       " 1977.0: 73865.0,\n",
       " 1978.0: 79000.0,\n",
       " 1979.0: 73000.0,\n",
       " 1980.0: 68800.0,\n",
       " 1981.0: 82000.0,\n",
       " 1982.0: 96300.0,\n",
       " 1983.0: 98885.5,\n",
       " 1984.0: 88857.0,\n",
       " 1985.0: 95330.5,\n",
       " 1986.0: 93000.0,\n",
       " 1987.0: 95500.0,\n",
       " 1988.0: 109555.0,\n",
       " 1989.0: 107222.5,\n",
       " 1990.0: 121000.0,\n",
       " 1991.0: 122150.0,\n",
       " 1992.0: 129000.0,\n",
       " 1993.0: 142888.0,\n",
       " 1994.0: 152000.0,\n",
       " 1995.0: 147000.0,\n",
       " 1996.0: 156584.5,\n",
       " 1997.0: 154533.5,\n",
       " 1998.0: 159970.0,\n",
       " 1999.0: 157000.0,\n",
       " 2000.0: 155737.0,\n",
       " 2001.0: 158505.0,\n",
       " 2002.0: 154000.0,\n",
       " 2003.0: 156000.0,\n",
       " 2004.0: 151000.0,\n",
       " 2005.0: 150200.0,\n",
       " 2006.0: 145000.0,\n",
       " 2007.0: 142790.0,\n",
       " 2008.0: 135000.0,\n",
       " 2009.0: 128269.0,\n",
       " 2010.0: 122362.0,\n",
       " 2011.0: 116657.0,\n",
       " 2012.0: 102268.0,\n",
       " 2013.0: 94000.0,\n",
       " 2014.0: 84049.0,\n",
       " 2015.0: 76734.0,\n",
       " 2016.0: 60500.0,\n",
       " 2017.0: 40509.0,\n",
       " 2018.0: 31753.0,\n",
       " 2019.0: 19701.0,\n",
       " 2020.0: 8272.0,\n",
       " 2021.0: 8.0}"
      ]
     },
     "execution_count": 10,
     "metadata": {},
     "output_type": "execute_result"
    }
   ],
   "source": [
    "# finding the median odometer of each year cars\n",
    "year_med =  dict(cars_df.groupby('year')['odometer'].median())\n",
    "year_med"
   ]
  },
  {
   "cell_type": "markdown",
   "metadata": {},
   "source": [
    "**Replacing null values of column 'odometer with the median value of each year of the car**"
   ]
  },
  {
   "cell_type": "code",
   "execution_count": 11,
   "metadata": {},
   "outputs": [],
   "source": [
    "#inputing the median odometer values of the year with missing values in odometer\n",
    "cars_df['odometer'] = cars_df['odometer'].fillna(cars_df['year'].apply(lambda x: year_med.get(x)))"
   ]
  },
  {
   "cell_type": "markdown",
   "metadata": {},
   "source": [
    "**dropping the columns which are inconclusive**"
   ]
  },
  {
   "cell_type": "code",
   "execution_count": 12,
   "metadata": {},
   "outputs": [],
   "source": [
    "#dropping the columns which are inconclusive\n",
    "# df=df.drop(columns=[\"Unnamed: 0\",\"id\",\"url\",\"region_url\",\"image_url\",\"description\",\n",
    "#                     \"State\",\"State Code\",\"VIN\"],axis=1)"
   ]
  },
  {
   "cell_type": "markdown",
   "metadata": {},
   "source": [
    "**dropping the row missing values of the columns of the dataframe** "
   ]
  },
  {
   "cell_type": "code",
   "execution_count": 13,
   "metadata": {},
   "outputs": [],
   "source": [
    "#Dropping the null values of the columns in the list\n",
    "cars_df = cars_df.dropna(subset=['year', 'manufacturer','model','fuel','odometer','title_status'])\n"
   ]
  },
  {
   "cell_type": "code",
   "execution_count": 14,
   "metadata": {},
   "outputs": [
    {
     "data": {
      "text/plain": [
       "(431209, 26)"
      ]
     },
     "execution_count": 14,
     "metadata": {},
     "output_type": "execute_result"
    }
   ],
   "source": [
    "cars_df.shape"
   ]
  },
  {
   "cell_type": "code",
   "execution_count": 15,
   "metadata": {
    "scrolled": false
   },
   "outputs": [],
   "source": [
    "#Function for value_counts of columns\n",
    "# for col in df.columns:\n",
    "#     print(col)\n",
    "#     print(df[col].value_counts())\n",
    "#     print(\"-------------------------------------------------------------\")"
   ]
  },
  {
   "cell_type": "markdown",
   "metadata": {},
   "source": [
    "**condition**<br>\n",
    "Filling the null values with 'unknown' and replacing the 'like new' value with 'excellent' in the column 'conditon'\n"
   ]
  },
  {
   "cell_type": "code",
   "execution_count": 16,
   "metadata": {},
   "outputs": [
    {
     "name": "stdout",
     "output_type": "stream",
     "text": [
      "good         110315\n",
      "excellent    110211\n",
      "like new      23422\n",
      "fair           6961\n",
      "new            1188\n",
      "salvage         588\n",
      "Name: condition, dtype: int64\n",
      "______________________________________________\n"
     ]
    },
    {
     "data": {
      "text/plain": [
       "unknown      178524\n",
       "excellent    133633\n",
       "good         110315\n",
       "fair           6961\n",
       "new            1188\n",
       "salvage         588\n",
       "Name: condition, dtype: int64"
      ]
     },
     "execution_count": 16,
     "metadata": {},
     "output_type": "execute_result"
    }
   ],
   "source": [
    "print(cars_df['condition'].value_counts())\n",
    "#filling nullvalues with missing in condition column\n",
    "cars_df.condition.fillna(\"unknown\", inplace=True)\n",
    "cars_df['condition'] = cars_df['condition'].replace({'like new':'excellent'})\n",
    "print('______________________________________________')\n",
    "cars_df['condition'].value_counts()\n",
    "    "
   ]
  },
  {
   "cell_type": "markdown",
   "metadata": {},
   "source": [
    "**cylinder**<br>Filling null values with '0', changing the tesla to '0', replacing 'other' with '0' and also replacing the values like\n",
    "'6 cylinders' with '6'.. in the column."
   ]
  },
  {
   "cell_type": "code",
   "execution_count": 17,
   "metadata": {},
   "outputs": [
    {
     "name": "stdout",
     "output_type": "stream",
     "text": [
      "6 cylinders     101365\n",
      "4 cylinders      90662\n",
      "8 cylinders      76803\n",
      "5 cylinders       1858\n",
      "10 cylinders      1466\n",
      "other              733\n",
      "3 cylinders        398\n",
      "12 cylinders        98\n",
      "Name: cylinders, dtype: int64\n",
      "______________________________________________\n"
     ]
    },
    {
     "data": {
      "text/plain": [
       "0     158583\n",
       "6     101364\n",
       "4      90647\n",
       "8      76801\n",
       "5       1858\n",
       "10      1460\n",
       "3        398\n",
       "12        98\n",
       "Name: cylinders, dtype: int64"
      ]
     },
     "execution_count": 17,
     "metadata": {},
     "output_type": "execute_result"
    }
   ],
   "source": [
    "print(cars_df['cylinders'].value_counts())\n",
    "# Changing cylinders of tesla cars to 0\n",
    "cars_df.loc[cars_df.manufacturer == 'tesla', 'cylinders'] = 0\n",
    "cars_df.cylinders.fillna(0, inplace = True)\n",
    "cars_df.cylinders =  cars_df.cylinders.replace('other', 0)\n",
    "\n",
    "\n",
    "cars_df['cylinders'] = cars_df['cylinders'].replace({'6 cylinders':'6', '4 cylinders':'4',\n",
    "                                          '8 cylinders':'8','5 cylinders':'5',\n",
    "                                          '10 cylinders':'10','3 cylinders':'3',\n",
    "                                          '12 cylinders':'12'})\n",
    "print('______________________________________________')\n",
    "cars_df['cylinders'].value_counts()"
   ]
  },
  {
   "cell_type": "code",
   "execution_count": 18,
   "metadata": {},
   "outputs": [
    {
     "name": "stdout",
     "output_type": "stream",
     "text": [
      "clean         416308\n",
      "rebuilt         8297\n",
      "salvage         3957\n",
      "lien            1977\n",
      "missing          528\n",
      "parts only       142\n",
      "Name: title_status, dtype: int64\n",
      "______________________________________________\n"
     ]
    },
    {
     "data": {
      "text/plain": [
       "clean        416308\n",
       "rebuilt        8297\n",
       "salvage        3957\n",
       "lien           1977\n",
       "missing         528\n",
       "partsonly       142\n",
       "Name: title_status, dtype: int64"
      ]
     },
     "execution_count": 18,
     "metadata": {},
     "output_type": "execute_result"
    }
   ],
   "source": [
    "#renaming the value 'parts only' to 'partsonly' in the column 'title_sstatus'\n",
    "print(cars_df['title_status'].value_counts())\n",
    "cars_df['title_status'] = cars_df['title_status'].replace({'parts only':'partsonly'})\n",
    "print('______________________________________________')\n",
    "cars_df['title_status'].value_counts()"
   ]
  },
  {
   "cell_type": "markdown",
   "metadata": {},
   "source": [
    "**transmission**<br>\n",
    "Filling the null values with 'other' in the column"
   ]
  },
  {
   "cell_type": "code",
   "execution_count": 19,
   "metadata": {},
   "outputs": [
    {
     "name": "stdout",
     "output_type": "stream",
     "text": [
      "automatic    375760\n",
      "other         30375\n",
      "manual        23557\n",
      "Name: transmission, dtype: int64\n",
      "______________________________________________\n"
     ]
    },
    {
     "data": {
      "text/plain": [
       "automatic    375760\n",
       "other         31892\n",
       "manual        23557\n",
       "Name: transmission, dtype: int64"
      ]
     },
     "execution_count": 19,
     "metadata": {},
     "output_type": "execute_result"
    }
   ],
   "source": [
    "print(cars_df['transmission'].value_counts())\n",
    "cars_df['transmission'].fillna('other', inplace = True)\n",
    "print('______________________________________________')\n",
    "cars_df['transmission'].value_counts()"
   ]
  },
  {
   "cell_type": "markdown",
   "metadata": {},
   "source": [
    "**drive & size** <br>Filling the  null values with 'unknown' in the column."
   ]
  },
  {
   "cell_type": "code",
   "execution_count": 20,
   "metadata": {},
   "outputs": [
    {
     "name": "stdout",
     "output_type": "stream",
     "text": [
      "4wd    135195\n",
      "fwd    117956\n",
      "rwd     55973\n",
      "Name: drive, dtype: int64\n",
      "______________________________________________\n"
     ]
    },
    {
     "data": {
      "text/plain": [
       "4wd        135195\n",
       "unknown    122085\n",
       "fwd        117956\n",
       "rwd         55973\n",
       "Name: drive, dtype: int64"
      ]
     },
     "execution_count": 20,
     "metadata": {},
     "output_type": "execute_result"
    }
   ],
   "source": [
    "#filling the nullvalues\n",
    "print(cars_df['drive'].value_counts())\n",
    "cars_df['drive'].fillna('unknown', inplace = True)\n",
    "print('______________________________________________')\n",
    "cars_df['drive'].value_counts()"
   ]
  },
  {
   "cell_type": "code",
   "execution_count": 21,
   "metadata": {},
   "outputs": [
    {
     "name": "stdout",
     "output_type": "stream",
     "text": [
      "full-size      65574\n",
      "mid-size       40317\n",
      "compact        20767\n",
      "sub-compact     3327\n",
      "Name: size, dtype: int64\n",
      "______________________________________________\n"
     ]
    },
    {
     "data": {
      "text/plain": [
       "unknown       301224\n",
       "full           65574\n",
       "mid            40317\n",
       "compact        20767\n",
       "subcompact      3327\n",
       "Name: size, dtype: int64"
      ]
     },
     "execution_count": 21,
     "metadata": {},
     "output_type": "execute_result"
    }
   ],
   "source": [
    "print(cars_df['size'].value_counts())\n",
    "cars_df['size'].fillna('unknown', inplace = True)\n",
    "cars_df['size'] = cars_df['size'].replace({'full-size':'full','mid-size':'mid',\n",
    "                                'sub-compact' : 'subcompact'})\n",
    "print('______________________________________________')\n",
    "cars_df['size'].value_counts()"
   ]
  },
  {
   "cell_type": "markdown",
   "metadata": {},
   "source": [
    "**type**<br>Filling the null values with 'other' in the column "
   ]
  },
  {
   "cell_type": "code",
   "execution_count": 22,
   "metadata": {},
   "outputs": [
    {
     "name": "stdout",
     "output_type": "stream",
     "text": [
      "sedan          89364\n",
      "SUV            77249\n",
      "pickup         41468\n",
      "truck          32966\n",
      "other          22640\n",
      "coupe          17697\n",
      "hatchback      15726\n",
      "wagon          10168\n",
      "van             9159\n",
      "convertible     6222\n",
      "mini-van        6084\n",
      "offroad          568\n",
      "bus              424\n",
      "Name: type, dtype: int64\n",
      "______________________________________________\n"
     ]
    },
    {
     "data": {
      "text/plain": [
       "other          124114\n",
       "sedan           89364\n",
       "SUV             77249\n",
       "pickup          41468\n",
       "truck           32966\n",
       "coupe           17697\n",
       "hatchback       15726\n",
       "wagon           10168\n",
       "van              9159\n",
       "convertible      6222\n",
       "minivan          6084\n",
       "offroad           568\n",
       "bus               424\n",
       "Name: type, dtype: int64"
      ]
     },
     "execution_count": 22,
     "metadata": {},
     "output_type": "execute_result"
    }
   ],
   "source": [
    "print(cars_df['type'].value_counts())\n",
    "cars_df['type'].fillna('other', inplace = True)\n",
    "cars_df['type']= cars_df['type'].replace({\"mini-van\":\"minivan\"})\n",
    "print('______________________________________________')\n",
    "cars_df['type'].value_counts()"
   ]
  },
  {
   "cell_type": "code",
   "execution_count": 23,
   "metadata": {},
   "outputs": [],
   "source": [
    "#renaming the values in the manufacturer\n",
    "cars_df['manufacturer'] = cars_df['manufacturer'].replace({'land rover':'landrover',\n",
    "                                                'harley-davidson':'harley',\n",
    "                                                'alfa-romeo': 'alfaromeo',\n",
    "                                                'aston-martin':'astonmartin',\n",
    "                                                'mercedes-benz':'mercedes'})"
   ]
  },
  {
   "cell_type": "code",
   "execution_count": 24,
   "metadata": {},
   "outputs": [],
   "source": [
    "#cars_ df['posting_date'].value_counts()"
   ]
  },
  {
   "cell_type": "code",
   "execution_count": 25,
   "metadata": {},
   "outputs": [],
   "source": [
    "#converting the posting date to date type\n",
    "from datetime import datetime\n",
    "cars_df['posting_date'] = pd.to_datetime(cars_df['posting_date'])"
   ]
  },
  {
   "cell_type": "markdown",
   "metadata": {},
   "source": [
    "Converted the posting_date of the vehicle sales from object to datetype. Adding columns posting_year and posting_month to dataframe <br>using the lambda function.Also adding the column age of vehicle by finding the difference between the year manufactured with the posting_year. "
   ]
  },
  {
   "cell_type": "code",
   "execution_count": 26,
   "metadata": {},
   "outputs": [],
   "source": [
    "#adding column posting_year, posting_month and age of the vehicle to dataframe\n",
    "cars_df['posting_year']= cars_df['posting_date'].apply(lambda x: x.year)\n",
    "cars_df['posting_month']= cars_df['posting_date'].apply(lambda x: x.month)\n",
    "cars_df['age'] = cars_df['posting_year']-cars_df['year']"
   ]
  },
  {
   "cell_type": "code",
   "execution_count": 27,
   "metadata": {},
   "outputs": [
    {
     "name": "stdout",
     "output_type": "stream",
     "text": [
      "[2020]\n"
     ]
    },
    {
     "data": {
      "text/plain": [
       "array([12, 11, 10], dtype=int64)"
      ]
     },
     "execution_count": 27,
     "metadata": {},
     "output_type": "execute_result"
    }
   ],
   "source": [
    "#printing the unique value of posting year and posting month\n",
    "print(cars_df['posting_year'].unique())\n",
    "cars_df['posting_month'].unique()"
   ]
  },
  {
   "cell_type": "markdown",
   "metadata": {},
   "source": [
    "The data available in the dataframe is from last 3 month of 2020."
   ]
  },
  {
   "cell_type": "code",
   "execution_count": 28,
   "metadata": {},
   "outputs": [
    {
     "data": {
      "text/html": [
       "<div>\n",
       "<style scoped>\n",
       "    .dataframe tbody tr th:only-of-type {\n",
       "        vertical-align: middle;\n",
       "    }\n",
       "\n",
       "    .dataframe tbody tr th {\n",
       "        vertical-align: top;\n",
       "    }\n",
       "\n",
       "    .dataframe thead th {\n",
       "        text-align: right;\n",
       "    }\n",
       "</style>\n",
       "<table border=\"1\" class=\"dataframe\">\n",
       "  <thead>\n",
       "    <tr style=\"text-align: right;\">\n",
       "      <th></th>\n",
       "      <th>Unnamed: 0</th>\n",
       "      <th>id</th>\n",
       "      <th>url</th>\n",
       "      <th>region</th>\n",
       "      <th>region_url</th>\n",
       "      <th>price</th>\n",
       "      <th>year</th>\n",
       "      <th>manufacturer</th>\n",
       "      <th>model</th>\n",
       "      <th>condition</th>\n",
       "      <th>cylinders</th>\n",
       "      <th>fuel</th>\n",
       "      <th>odometer</th>\n",
       "      <th>title_status</th>\n",
       "      <th>transmission</th>\n",
       "      <th>VIN</th>\n",
       "      <th>drive</th>\n",
       "      <th>size</th>\n",
       "      <th>type</th>\n",
       "      <th>paint_color</th>\n",
       "      <th>image_url</th>\n",
       "      <th>description</th>\n",
       "      <th>state</th>\n",
       "      <th>lat</th>\n",
       "      <th>long</th>\n",
       "      <th>posting_date</th>\n",
       "      <th>posting_year</th>\n",
       "      <th>posting_month</th>\n",
       "      <th>age</th>\n",
       "    </tr>\n",
       "  </thead>\n",
       "  <tbody>\n",
       "    <tr>\n",
       "      <th>0</th>\n",
       "      <td>0</td>\n",
       "      <td>7240372487</td>\n",
       "      <td>https://auburn.craigslist.org/ctd/d/auburn-uni...</td>\n",
       "      <td>auburn</td>\n",
       "      <td>https://auburn.craigslist.org</td>\n",
       "      <td>35990</td>\n",
       "      <td>2010.0</td>\n",
       "      <td>chevrolet</td>\n",
       "      <td>corvette grand sport</td>\n",
       "      <td>good</td>\n",
       "      <td>8</td>\n",
       "      <td>gas</td>\n",
       "      <td>32742.0</td>\n",
       "      <td>clean</td>\n",
       "      <td>other</td>\n",
       "      <td>1G1YU3DW1A5106980</td>\n",
       "      <td>rwd</td>\n",
       "      <td>unknown</td>\n",
       "      <td>other</td>\n",
       "      <td>NaN</td>\n",
       "      <td>https://images.craigslist.org/00N0N_ipkbHVZYf4...</td>\n",
       "      <td>Carvana is the safer way to buy a car During t...</td>\n",
       "      <td>al</td>\n",
       "      <td>32.5900</td>\n",
       "      <td>-85.4800</td>\n",
       "      <td>2020-12-02 08:11:30-06:00</td>\n",
       "      <td>2020</td>\n",
       "      <td>12</td>\n",
       "      <td>10.0</td>\n",
       "    </tr>\n",
       "    <tr>\n",
       "      <th>1</th>\n",
       "      <td>1</td>\n",
       "      <td>7240309422</td>\n",
       "      <td>https://auburn.craigslist.org/cto/d/auburn-201...</td>\n",
       "      <td>auburn</td>\n",
       "      <td>https://auburn.craigslist.org</td>\n",
       "      <td>7500</td>\n",
       "      <td>2014.0</td>\n",
       "      <td>hyundai</td>\n",
       "      <td>sonata</td>\n",
       "      <td>excellent</td>\n",
       "      <td>4</td>\n",
       "      <td>gas</td>\n",
       "      <td>93600.0</td>\n",
       "      <td>clean</td>\n",
       "      <td>automatic</td>\n",
       "      <td>5NPEC4AB0EH813529</td>\n",
       "      <td>fwd</td>\n",
       "      <td>unknown</td>\n",
       "      <td>sedan</td>\n",
       "      <td>NaN</td>\n",
       "      <td>https://images.craigslist.org/00s0s_gBHYmJ5o7y...</td>\n",
       "      <td>I'll move to another city and try to sell my c...</td>\n",
       "      <td>al</td>\n",
       "      <td>32.5475</td>\n",
       "      <td>-85.4682</td>\n",
       "      <td>2020-12-02 02:11:50-06:00</td>\n",
       "      <td>2020</td>\n",
       "      <td>12</td>\n",
       "      <td>6.0</td>\n",
       "    </tr>\n",
       "  </tbody>\n",
       "</table>\n",
       "</div>"
      ],
      "text/plain": [
       "   Unnamed: 0          id                                                url  \\\n",
       "0           0  7240372487  https://auburn.craigslist.org/ctd/d/auburn-uni...   \n",
       "1           1  7240309422  https://auburn.craigslist.org/cto/d/auburn-201...   \n",
       "\n",
       "   region                     region_url  price    year manufacturer  \\\n",
       "0  auburn  https://auburn.craigslist.org  35990  2010.0    chevrolet   \n",
       "1  auburn  https://auburn.craigslist.org   7500  2014.0      hyundai   \n",
       "\n",
       "                  model  condition cylinders fuel  odometer title_status  \\\n",
       "0  corvette grand sport       good         8  gas   32742.0        clean   \n",
       "1                sonata  excellent         4  gas   93600.0        clean   \n",
       "\n",
       "  transmission                VIN drive     size   type paint_color  \\\n",
       "0        other  1G1YU3DW1A5106980   rwd  unknown  other         NaN   \n",
       "1    automatic  5NPEC4AB0EH813529   fwd  unknown  sedan         NaN   \n",
       "\n",
       "                                           image_url  \\\n",
       "0  https://images.craigslist.org/00N0N_ipkbHVZYf4...   \n",
       "1  https://images.craigslist.org/00s0s_gBHYmJ5o7y...   \n",
       "\n",
       "                                         description state      lat     long  \\\n",
       "0  Carvana is the safer way to buy a car During t...    al  32.5900 -85.4800   \n",
       "1  I'll move to another city and try to sell my c...    al  32.5475 -85.4682   \n",
       "\n",
       "                posting_date  posting_year  posting_month   age  \n",
       "0  2020-12-02 08:11:30-06:00          2020             12  10.0  \n",
       "1  2020-12-02 02:11:50-06:00          2020             12   6.0  "
      ]
     },
     "execution_count": 28,
     "metadata": {},
     "output_type": "execute_result"
    }
   ],
   "source": [
    "cars_df.head(2)"
   ]
  },
  {
   "cell_type": "markdown",
   "metadata": {},
   "source": [
    "# Binning"
   ]
  },
  {
   "cell_type": "markdown",
   "metadata": {},
   "source": [
    "Loading the states dataset and merging with the cars dataframe. In order to perform binning on the state columns which  has 52 <br>categorical values to reduce the input variables when modeling the data by using division rather than state."
   ]
  },
  {
   "cell_type": "code",
   "execution_count": 29,
   "metadata": {},
   "outputs": [
    {
     "data": {
      "text/html": [
       "<div>\n",
       "<style scoped>\n",
       "    .dataframe tbody tr th:only-of-type {\n",
       "        vertical-align: middle;\n",
       "    }\n",
       "\n",
       "    .dataframe tbody tr th {\n",
       "        vertical-align: top;\n",
       "    }\n",
       "\n",
       "    .dataframe thead th {\n",
       "        text-align: right;\n",
       "    }\n",
       "</style>\n",
       "<table border=\"1\" class=\"dataframe\">\n",
       "  <thead>\n",
       "    <tr style=\"text-align: right;\">\n",
       "      <th></th>\n",
       "      <th>State</th>\n",
       "      <th>State Code</th>\n",
       "      <th>Region</th>\n",
       "      <th>Division</th>\n",
       "    </tr>\n",
       "  </thead>\n",
       "  <tbody>\n",
       "    <tr>\n",
       "      <th>0</th>\n",
       "      <td>Alaska</td>\n",
       "      <td>AK</td>\n",
       "      <td>West</td>\n",
       "      <td>Pacific</td>\n",
       "    </tr>\n",
       "    <tr>\n",
       "      <th>1</th>\n",
       "      <td>Alabama</td>\n",
       "      <td>AL</td>\n",
       "      <td>South</td>\n",
       "      <td>East South Central</td>\n",
       "    </tr>\n",
       "    <tr>\n",
       "      <th>2</th>\n",
       "      <td>Arkansas</td>\n",
       "      <td>AR</td>\n",
       "      <td>South</td>\n",
       "      <td>West South Central</td>\n",
       "    </tr>\n",
       "    <tr>\n",
       "      <th>3</th>\n",
       "      <td>Arizona</td>\n",
       "      <td>AZ</td>\n",
       "      <td>West</td>\n",
       "      <td>Mountain</td>\n",
       "    </tr>\n",
       "    <tr>\n",
       "      <th>4</th>\n",
       "      <td>California</td>\n",
       "      <td>CA</td>\n",
       "      <td>West</td>\n",
       "      <td>Pacific</td>\n",
       "    </tr>\n",
       "  </tbody>\n",
       "</table>\n",
       "</div>"
      ],
      "text/plain": [
       "        State State Code Region            Division\n",
       "0      Alaska         AK   West             Pacific\n",
       "1     Alabama         AL  South  East South Central\n",
       "2    Arkansas         AR  South  West South Central\n",
       "3     Arizona         AZ   West            Mountain\n",
       "4  California         CA   West             Pacific"
      ]
     },
     "execution_count": 29,
     "metadata": {},
     "output_type": "execute_result"
    }
   ],
   "source": [
    "# Loading the states dataframe\n",
    "states_df = pd.read_csv(\"states.csv\")\n",
    "states_df.head()"
   ]
  },
  {
   "cell_type": "code",
   "execution_count": 30,
   "metadata": {},
   "outputs": [
    {
     "data": {
      "text/html": [
       "<div>\n",
       "<style scoped>\n",
       "    .dataframe tbody tr th:only-of-type {\n",
       "        vertical-align: middle;\n",
       "    }\n",
       "\n",
       "    .dataframe tbody tr th {\n",
       "        vertical-align: top;\n",
       "    }\n",
       "\n",
       "    .dataframe thead th {\n",
       "        text-align: right;\n",
       "    }\n",
       "</style>\n",
       "<table border=\"1\" class=\"dataframe\">\n",
       "  <thead>\n",
       "    <tr style=\"text-align: right;\">\n",
       "      <th></th>\n",
       "      <th>State</th>\n",
       "      <th>State Code</th>\n",
       "      <th>Region</th>\n",
       "      <th>Division</th>\n",
       "    </tr>\n",
       "  </thead>\n",
       "  <tbody>\n",
       "    <tr>\n",
       "      <th>0</th>\n",
       "      <td>Alaska</td>\n",
       "      <td>ak</td>\n",
       "      <td>West</td>\n",
       "      <td>Pacific</td>\n",
       "    </tr>\n",
       "    <tr>\n",
       "      <th>1</th>\n",
       "      <td>Alabama</td>\n",
       "      <td>al</td>\n",
       "      <td>South</td>\n",
       "      <td>East South Central</td>\n",
       "    </tr>\n",
       "  </tbody>\n",
       "</table>\n",
       "</div>"
      ],
      "text/plain": [
       "     State State Code Region            Division\n",
       "0   Alaska         ak   West             Pacific\n",
       "1  Alabama         al  South  East South Central"
      ]
     },
     "execution_count": 30,
     "metadata": {},
     "output_type": "execute_result"
    }
   ],
   "source": [
    "#converting state code column to lower case string\n",
    "states_df['State Code'] = states_df['State Code'] . str.lower()\n",
    "states_df.head(2)"
   ]
  },
  {
   "cell_type": "code",
   "execution_count": 31,
   "metadata": {},
   "outputs": [],
   "source": [
    "#merging the dataframes\n",
    "df = cars_df.merge(states_df, left_on= 'state', right_on= 'State Code')"
   ]
  },
  {
   "cell_type": "markdown",
   "metadata": {},
   "source": [
    "**Dropping the columns which are inconclusive**"
   ]
  },
  {
   "cell_type": "code",
   "execution_count": 33,
   "metadata": {},
   "outputs": [],
   "source": [
    "#dropping the columns which are inconclusive\n",
    "df=df.drop(columns=[\"Unnamed: 0\",\"id\",\"url\",\"region_url\",\"image_url\",\"description\",\n",
    "                    \"State\",\"State Code\",\"VIN\"],axis=1)"
   ]
  },
  {
   "cell_type": "code",
   "execution_count": 34,
   "metadata": {
    "scrolled": true
   },
   "outputs": [
    {
     "data": {
      "text/plain": [
       "region                0\n",
       "price                 0\n",
       "year                  0\n",
       "manufacturer          0\n",
       "model                 0\n",
       "condition             0\n",
       "cylinders             0\n",
       "fuel                  0\n",
       "odometer              0\n",
       "title_status          0\n",
       "transmission          0\n",
       "drive                 0\n",
       "size                  0\n",
       "type                  0\n",
       "paint_color      129401\n",
       "state                 0\n",
       "lat                6890\n",
       "long               6890\n",
       "posting_date          0\n",
       "posting_year          0\n",
       "posting_month         0\n",
       "age                   0\n",
       "Region                0\n",
       "Division              0\n",
       "dtype: int64"
      ]
     },
     "execution_count": 34,
     "metadata": {},
     "output_type": "execute_result"
    }
   ],
   "source": [
    "df.isna().sum()"
   ]
  },
  {
   "cell_type": "code",
   "execution_count": 35,
   "metadata": {},
   "outputs": [],
   "source": [
    "#saving and converting the cleaned dataframe to csv file\n",
    "df.to_csv('craiglist_cleaned_data')"
   ]
  }
 ],
 "metadata": {
  "kernelspec": {
   "display_name": "Python 3",
   "language": "python",
   "name": "python3"
  },
  "language_info": {
   "codemirror_mode": {
    "name": "ipython",
    "version": 3
   },
   "file_extension": ".py",
   "mimetype": "text/x-python",
   "name": "python",
   "nbconvert_exporter": "python",
   "pygments_lexer": "ipython3",
   "version": "3.8.5"
  },
  "toc": {
   "base_numbering": 1,
   "nav_menu": {},
   "number_sections": true,
   "sideBar": true,
   "skip_h1_title": false,
   "title_cell": "Table of Contents",
   "title_sidebar": "Contents",
   "toc_cell": false,
   "toc_position": {},
   "toc_section_display": true,
   "toc_window_display": false
  },
  "varInspector": {
   "cols": {
    "lenName": 16,
    "lenType": 16,
    "lenVar": 40
   },
   "kernels_config": {
    "python": {
     "delete_cmd_postfix": "",
     "delete_cmd_prefix": "del ",
     "library": "var_list.py",
     "varRefreshCmd": "print(var_dic_list())"
    },
    "r": {
     "delete_cmd_postfix": ") ",
     "delete_cmd_prefix": "rm(",
     "library": "var_list.r",
     "varRefreshCmd": "cat(var_dic_list()) "
    }
   },
   "types_to_exclude": [
    "module",
    "function",
    "builtin_function_or_method",
    "instance",
    "_Feature"
   ],
   "window_display": false
  }
 },
 "nbformat": 4,
 "nbformat_minor": 4
}
